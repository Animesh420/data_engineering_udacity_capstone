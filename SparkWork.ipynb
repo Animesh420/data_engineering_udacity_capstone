{
 "cells": [
  {
   "cell_type": "code",
   "execution_count": 620,
   "id": "678c1c75",
   "metadata": {},
   "outputs": [
    {
     "name": "stdout",
     "output_type": "stream",
     "text": [
      "Setup complete\n"
     ]
    }
   ],
   "source": [
    "from pyspark.sql import SparkSession, SQLContext, GroupedData, HiveContext\n",
    "from pyspark.sql.functions import *\n",
    "from pyspark.sql.functions import date_add as d_add\n",
    "from pyspark.sql.types import DoubleType\n",
    "from pyspark.sql.functions import year, month, dayofmonth, weekofyear, date_format\n",
    "from pyspark.sql import functions as F\n",
    "from pyspark.sql.functions import monotonically_increasing_id\n",
    "from pyspark.sql.functions import lit\n",
    "from pyspark.sql import Row\n",
    "import os \n",
    "import pandas as pd \n",
    "import numpy as np\n",
    "# Increased memory\n",
    "spark = SparkSession.builder.\\\n",
    "config(\"spark.jars.packages\",\"saurfang:spark-sas7bdat:2.0.0-s_2.11\")\\\n",
    ".config(\"spark.python.worker.memory\", \"15g\") \\\n",
    ".enableHiveSupport().getOrCreate()\n",
    "print(\"Setup complete\")"
   ]
  },
  {
   "cell_type": "code",
   "execution_count": 621,
   "id": "e7cf27fe",
   "metadata": {},
   "outputs": [
    {
     "data": {
      "text/plain": [
       "['I94_SAS_Labels_Descriptions.sas',\n",
       " 'airport-codes_csv.csv',\n",
       " 'arrival_port_map.csv',\n",
       " 'country_details.csv',\n",
       " 'flight_number.csv',\n",
       " 'immigration_data_sample.csv',\n",
       " 'mismatch.csv',\n",
       " 'sas_data',\n",
       " 'us-cities-demographics.csv',\n",
       " 'valid_arrival_codes.csv']"
      ]
     },
     "execution_count": 621,
     "metadata": {},
     "output_type": "execute_result"
    }
   ],
   "source": [
    "os.listdir(os.getcwd()+'/data')"
   ]
  },
  {
   "cell_type": "code",
   "execution_count": 622,
   "id": "f3470b52",
   "metadata": {},
   "outputs": [],
   "source": [
    "# Setting up Files to read\n",
    "data_dir = os.path.join(os.getcwd(), 'data')\n",
    "country_detail_path = os.path.join(data_dir, r'country_details.csv')\n",
    "airport_mismatch_path =  os.path.join(data_dir,r'mismatch.csv') \n",
    "airport_data = os.path.join(data_dir, 'airport-codes_csv.csv')\n",
    "arrival_port_map = os.path.join(data_dir, 'arrival_port_map.csv')\n",
    "demographic_data = os.path.join(data_dir, 'us-cities-demographics.csv')\n",
    "valid_arrival_address_path = os.path.join(data_dir, 'valid_arrival_codes.csv')\n",
    "sas_path = os.path.join(data_dir, 'sas_data')\n",
    "sas_path_specific = os.path.join(sas_path, 'part-00001-b9542815-7a8d-45fc-9c67-c9c5007ad0d4-c000.snappy.parquet')\n",
    "output_path = os.path.join(os.getcwd(), 'spark_output_parquet')"
   ]
  },
  {
   "cell_type": "code",
   "execution_count": 623,
   "id": "df3d59c8",
   "metadata": {},
   "outputs": [],
   "source": [
    "# util functions\n",
    "def shape(d):\n",
    "    print((d.count(), len(d.columns)))\n",
    "    \n",
    "def detail(d):\n",
    "    print(\"Shape ==>\", (d.count(), len(d.columns)))\n",
    "    print(\"Schema ::\")\n",
    "    d.printSchema()\n",
    "    d.show(2)"
   ]
  },
  {
   "cell_type": "code",
   "execution_count": 624,
   "id": "9d0fb90c",
   "metadata": {},
   "outputs": [
    {
     "name": "stdout",
     "output_type": "stream",
     "text": [
      "part-00000-b9542815-7a8d-45fc-9c67-c9c5007ad0d4-c000.snappy.parquet\r\n",
      "part-00001-b9542815-7a8d-45fc-9c67-c9c5007ad0d4-c000.snappy.parquet\r\n",
      "part-00002-b9542815-7a8d-45fc-9c67-c9c5007ad0d4-c000.snappy.parquet\r\n",
      "part-00003-b9542815-7a8d-45fc-9c67-c9c5007ad0d4-c000.snappy.parquet\r\n",
      "part-00004-b9542815-7a8d-45fc-9c67-c9c5007ad0d4-c000.snappy.parquet\r\n",
      "part-00005-b9542815-7a8d-45fc-9c67-c9c5007ad0d4-c000.snappy.parquet\r\n",
      "part-00006-b9542815-7a8d-45fc-9c67-c9c5007ad0d4-c000.snappy.parquet\r\n",
      "part-00007-b9542815-7a8d-45fc-9c67-c9c5007ad0d4-c000.snappy.parquet\r\n",
      "part-00008-b9542815-7a8d-45fc-9c67-c9c5007ad0d4-c000.snappy.parquet\r\n",
      "part-00009-b9542815-7a8d-45fc-9c67-c9c5007ad0d4-c000.snappy.parquet\r\n",
      "part-00010-b9542815-7a8d-45fc-9c67-c9c5007ad0d4-c000.snappy.parquet\r\n",
      "part-00011-b9542815-7a8d-45fc-9c67-c9c5007ad0d4-c000.snappy.parquet\r\n",
      "part-00012-b9542815-7a8d-45fc-9c67-c9c5007ad0d4-c000.snappy.parquet\r\n",
      "part-00013-b9542815-7a8d-45fc-9c67-c9c5007ad0d4-c000.snappy.parquet\r\n",
      "_SUCCESS\r\n"
     ]
    }
   ],
   "source": [
    "!ls /home/jovyan/work/data/sas_data"
   ]
  },
  {
   "cell_type": "code",
   "execution_count": 625,
   "id": "3b674a72",
   "metadata": {},
   "outputs": [
    {
     "name": "stdout",
     "output_type": "stream",
     "text": [
      "/home/jovyan/work/data/sas_data\n",
      "Shape ==> (220160, 28)\n",
      "Schema ::\n",
      "root\n",
      " |-- cicid: double (nullable = true)\n",
      " |-- i94yr: double (nullable = true)\n",
      " |-- i94mon: double (nullable = true)\n",
      " |-- i94cit: double (nullable = true)\n",
      " |-- i94res: double (nullable = true)\n",
      " |-- i94port: string (nullable = true)\n",
      " |-- arrdate: double (nullable = true)\n",
      " |-- i94mode: double (nullable = true)\n",
      " |-- i94addr: string (nullable = true)\n",
      " |-- depdate: double (nullable = true)\n",
      " |-- i94bir: double (nullable = true)\n",
      " |-- i94visa: double (nullable = true)\n",
      " |-- count: double (nullable = true)\n",
      " |-- dtadfile: string (nullable = true)\n",
      " |-- visapost: string (nullable = true)\n",
      " |-- occup: string (nullable = true)\n",
      " |-- entdepa: string (nullable = true)\n",
      " |-- entdepd: string (nullable = true)\n",
      " |-- entdepu: string (nullable = true)\n",
      " |-- matflag: string (nullable = true)\n",
      " |-- biryear: double (nullable = true)\n",
      " |-- dtaddto: string (nullable = true)\n",
      " |-- gender: string (nullable = true)\n",
      " |-- insnum: string (nullable = true)\n",
      " |-- airline: string (nullable = true)\n",
      " |-- admnum: double (nullable = true)\n",
      " |-- fltno: string (nullable = true)\n",
      " |-- visatype: string (nullable = true)\n",
      "\n",
      "+--------+------+------+------+------+-------+-------+-------+-------+-------+------+-------+-----+--------+--------+-----+-------+-------+-------+-------+-------+--------+------+------+-------+---------------+-----+--------+\n",
      "|   cicid| i94yr|i94mon|i94cit|i94res|i94port|arrdate|i94mode|i94addr|depdate|i94bir|i94visa|count|dtadfile|visapost|occup|entdepa|entdepd|entdepu|matflag|biryear| dtaddto|gender|insnum|airline|         admnum|fltno|visatype|\n",
      "+--------+------+------+------+------+-------+-------+-------+-------+-------+------+-------+-----+--------+--------+-----+-------+-------+-------+-------+-------+--------+------+------+-------+---------------+-----+--------+\n",
      "|459651.0|2016.0|   4.0| 135.0| 135.0|    ATL|20547.0|    1.0|     FL|20559.0|  54.0|    2.0|  1.0|20160403|    null| null|      O|      R|   null|      M| 1962.0|07012016|  null|  null|     VS|5.5556253633E10|00115|      WT|\n",
      "|459652.0|2016.0|   4.0| 135.0| 135.0|    ATL|20547.0|    1.0|     FL|20555.0|  74.0|    2.0|  1.0|20160403|    null| null|      T|      O|   null|      M| 1942.0|07012016|     F|  null|     VS|   6.74406485E8|  103|      WT|\n",
      "+--------+------+------+------+------+-------+-------+-------+-------+-------+------+-------+-----+--------+--------+-----+-------+-------+-------+-------+-------+--------+------+------+-------+---------------+-----+--------+\n",
      "only showing top 2 rows\n",
      "\n"
     ]
    }
   ],
   "source": [
    "# Reading immigration data\n",
    "print(sas_path)\n",
    "df=spark.read.parquet(sas_path_specific)\n",
    "detail(df)"
   ]
  },
  {
   "cell_type": "code",
   "execution_count": 626,
   "id": "d16b6620",
   "metadata": {},
   "outputs": [],
   "source": [
    "import json\n",
    "def json_beautifier(d):\n",
    "    s = json.loads(d.schema.json())['fields']\n",
    "    cols = ['Field', 'Type', 'Nullable']\n",
    "    schema_df = pd.DataFrame(columns=cols, data={\n",
    "        'Field': [x['name'] for x in s],\n",
    "        'Type': [x['type'] for x in s],\n",
    "        'Nullable': [x['nullable'] for x in s]\n",
    "    })\n",
    "    return schema_df\n",
    "\n",
    "x = json_beautifier(df)\n",
    "x.to_csv('abc.csv')\n"
   ]
  },
  {
   "cell_type": "code",
   "execution_count": null,
   "id": "43834d4a",
   "metadata": {},
   "outputs": [],
   "source": []
  },
  {
   "cell_type": "code",
   "execution_count": 627,
   "id": "4de2b0d9",
   "metadata": {},
   "outputs": [],
   "source": [
    "def write_to_parquet(table, file_name):\n",
    "    \"\"\"\n",
    "    Write the table as parquet file\n",
    "    Parameters:\n",
    "        table\n",
    "        Name of the file\n",
    "    Returns:\n",
    "        Outputs the table as parquet file to a folder\n",
    "    \"\"\"\n",
    "    file_output = os.path.join(output_path, file_name)\n",
    "    table.write.mode(\"overwrite\").parquet(file_output)"
   ]
  },
  {
   "cell_type": "code",
   "execution_count": 628,
   "id": "6edb1d9a",
   "metadata": {},
   "outputs": [
    {
     "name": "stdout",
     "output_type": "stream",
     "text": [
      "Immigration_table schema:\n",
      "root\n",
      " |-- cicid: double (nullable = true)\n",
      " |-- i94yr: double (nullable = true)\n",
      " |-- i94mon: double (nullable = true)\n",
      " |-- i94cit: double (nullable = true)\n",
      " |-- i94res: double (nullable = true)\n",
      " |-- i94port: string (nullable = true)\n",
      " |-- arrdate: double (nullable = true)\n",
      " |-- i94mode: double (nullable = true)\n",
      " |-- i94addr: string (nullable = true)\n",
      " |-- depdate: double (nullable = true)\n",
      " |-- i94bir: double (nullable = true)\n",
      " |-- i94visa: double (nullable = true)\n",
      " |-- count: double (nullable = true)\n",
      " |-- dtadfile: string (nullable = true)\n",
      " |-- visapost: string (nullable = true)\n",
      " |-- occup: string (nullable = true)\n",
      " |-- entdepa: string (nullable = true)\n",
      " |-- entdepd: string (nullable = true)\n",
      " |-- entdepu: string (nullable = true)\n",
      " |-- matflag: string (nullable = true)\n",
      " |-- biryear: double (nullable = true)\n",
      " |-- dtaddto: string (nullable = true)\n",
      " |-- gender: string (nullable = true)\n",
      " |-- insnum: string (nullable = true)\n",
      " |-- airline: string (nullable = true)\n",
      " |-- admnum: double (nullable = true)\n",
      " |-- fltno: string (nullable = true)\n",
      " |-- visatype: string (nullable = true)\n",
      "\n"
     ]
    }
   ],
   "source": [
    "print(\"Immigration_table schema:\")\n",
    "df.printSchema()"
   ]
  },
  {
   "cell_type": "code",
   "execution_count": 629,
   "id": "125605a5",
   "metadata": {},
   "outputs": [
    {
     "name": "stdout",
     "output_type": "stream",
     "text": [
      "(87680, 28)\n",
      "(220160, 28)\n"
     ]
    }
   ],
   "source": [
    "# sampling down to run with a smaller dataset\n",
    "df_small = df.sample(withReplacement=False, fraction=0.4, seed=3)\n",
    "shape(df_small)\n",
    "shape(df)"
   ]
  },
  {
   "cell_type": "code",
   "execution_count": 630,
   "id": "686e1eb8",
   "metadata": {},
   "outputs": [],
   "source": [
    "# Adjusting the immigration dataframe\n",
    "df2 = df_small \\\n",
    ".withColumn(\"cicid\", col(\"cicid\").cast(\"integer\")) \\\n",
    ".withColumn(\"year\", col(\"i94yr\").cast(\"integer\")) \\\n",
    ".drop(\"i94yr\") \\\n",
    ".withColumn(\"month\", col(\"i94mon\").cast(\"integer\")) \\\n",
    ".drop(\"i94mon\") \\\n",
    ".withColumn(\"bornCountry\", col(\"i94cit\").cast(\"integer\")) \\\n",
    ".drop(\"i94cit\") \\\n",
    ".withColumn(\"residentCountry\", col(\"i94res\").cast(\"integer\")) \\\n",
    ".drop(\"i94res\") \\\n",
    ".withColumnRenamed(\"i94port\", \"arrivalPort\") \\\n",
    ".withColumn(\"mode\", col(\"i94mode\").cast(\"integer\")) \\\n",
    ".drop(\"i94mode\") \\\n",
    ".withColumnRenamed(\"i94addr\", \"arrivalAddress\") \\\n",
    ".withColumn(\"age\", col(\"i94bir\").cast(\"integer\")) \\\n",
    ".drop(\"i94bir\") \\\n",
    ".withColumn(\"visaId\", col(\"i94visa\").cast(\"integer\")) \\\n",
    ".drop(\"i94visa\") \\\n",
    ".withColumnRenamed(\"entdepa\", \"arrivalFlag\") \\\n",
    ".withColumnRenamed(\"entdepd\", \"departureFlag\") \\\n",
    ".withColumnRenamed(\"entdepu\", \"updateFlag\") \\\n",
    ".withColumnRenamed(\"matflag\", \"matchFlag\") \\\n",
    ".withColumn(\"birthYear\", col(\"biryear\").cast(\"integer\")) \\\n",
    ".drop(\"biryear\") \\\n",
    ".withColumnRenamed(\"fltno\", \"flightNumber\") \\\n",
    ".withColumnRenamed(\"visaType\", \"visaType\") \\\n",
    ".withColumn(\"sasDate\", to_date(lit(\"01/01/1960\"), \"MM/dd/yyyy\")) \\\n",
    ".withColumn(\"arrdate\", col(\"arrdate\").cast(\"integer\")) \\\n",
    ".withColumn(\"depdate\", col(\"depdate\").cast(\"integer\")) \\\n",
    ".withColumn(\"arrivalDate\", expr(\"date_add(sasDate, arrdate)\")) \\\n",
    ".withColumn(\"departureDate\", expr(\"date_add(sasDate, depdate)\")) \\\n",
    ".drop(\"sasDate\", \"arrdate\", \"depdate\", \"count\", \"admnum\", \"dtadfile\", \"visapost\", \"occup\", \"dtaddto\", \"insnum\")\n",
    "\n"
   ]
  },
  {
   "cell_type": "code",
   "execution_count": 631,
   "id": "a904bfcd",
   "metadata": {},
   "outputs": [
    {
     "name": "stdout",
     "output_type": "stream",
     "text": [
      "New Immigration data schema:\n",
      "root\n",
      " |-- cicid: integer (nullable = true)\n",
      " |-- arrivalPort: string (nullable = true)\n",
      " |-- arrivalAddress: string (nullable = true)\n",
      " |-- arrivalFlag: string (nullable = true)\n",
      " |-- departureFlag: string (nullable = true)\n",
      " |-- updateFlag: string (nullable = true)\n",
      " |-- matchFlag: string (nullable = true)\n",
      " |-- gender: string (nullable = true)\n",
      " |-- airline: string (nullable = true)\n",
      " |-- flightNumber: string (nullable = true)\n",
      " |-- visaType: string (nullable = true)\n",
      " |-- year: integer (nullable = true)\n",
      " |-- month: integer (nullable = true)\n",
      " |-- bornCountry: integer (nullable = true)\n",
      " |-- residentCountry: integer (nullable = true)\n",
      " |-- mode: integer (nullable = true)\n",
      " |-- age: integer (nullable = true)\n",
      " |-- visaId: integer (nullable = true)\n",
      " |-- birthYear: integer (nullable = true)\n",
      " |-- arrivalDate: date (nullable = true)\n",
      " |-- departureDate: date (nullable = true)\n",
      "\n"
     ]
    }
   ],
   "source": [
    "print(\"New Immigration data schema:\")\n",
    "df2.printSchema()"
   ]
  },
  {
   "cell_type": "code",
   "execution_count": 632,
   "id": "75b4986b",
   "metadata": {},
   "outputs": [],
   "source": [
    "# Time table creation\n",
    "time_table = df2.select(['arrivalDate'])\\\n",
    "                    .withColumnRenamed('arrivalDate','time')\\\n",
    "                    .dropna()\n",
    "\n",
    "time_table = time_table \\\n",
    "             .withColumn('day', F.dayofmonth('time')) \\\n",
    "             .withColumn('month', F.month('time')) \\\n",
    "             .withColumn('year', F.year('time')) \\\n",
    "             .withColumn('week', F.weekofyear('time')) \\\n",
    "             .withColumn('weekday', F.dayofweek('time'))\\\n",
    "             .dropDuplicates()\n",
    "write_to_parquet(time_table,\"time_table.parquet\" )"
   ]
  },
  {
   "cell_type": "code",
   "execution_count": 633,
   "id": "45f1c453",
   "metadata": {},
   "outputs": [
    {
     "name": "stdout",
     "output_type": "stream",
     "text": [
      "Shape ==> (4, 6)\n",
      "Schema ::\n",
      "root\n",
      " |-- time: date (nullable = true)\n",
      " |-- day: integer (nullable = true)\n",
      " |-- month: integer (nullable = true)\n",
      " |-- year: integer (nullable = true)\n",
      " |-- week: integer (nullable = true)\n",
      " |-- weekday: integer (nullable = true)\n",
      "\n",
      "+----------+---+-----+----+----+-------+\n",
      "|      time|day|month|year|week|weekday|\n",
      "+----------+---+-----+----+----+-------+\n",
      "|2016-04-05|  5|    4|2016|  14|      3|\n",
      "|2016-04-02|  2|    4|2016|  13|      7|\n",
      "+----------+---+-----+----+----+-------+\n",
      "only showing top 2 rows\n",
      "\n"
     ]
    }
   ],
   "source": [
    "detail(time_table)"
   ]
  },
  {
   "cell_type": "code",
   "execution_count": 634,
   "id": "5829f3a5",
   "metadata": {},
   "outputs": [],
   "source": [
    "# Person table creation\n",
    "person_table = df2.select(['birthYear','gender']) \\\n",
    "                 .dropDuplicates().dropna() \\\n",
    "                 .withColumn(\"personId\", \\\n",
    "                        monotonically_increasing_id())\\\n",
    "                 .withColumnRenamed(\"gender\", \"person_gender\")\n",
    "write_to_parquet(person_table,\"person_table.parquet\" )"
   ]
  },
  {
   "cell_type": "code",
   "execution_count": 635,
   "id": "39cfe544",
   "metadata": {},
   "outputs": [
    {
     "name": "stdout",
     "output_type": "stream",
     "text": [
      "Shape ==> (194, 3)\n",
      "Schema ::\n",
      "root\n",
      " |-- birthYear: integer (nullable = true)\n",
      " |-- person_gender: string (nullable = true)\n",
      " |-- personId: long (nullable = false)\n",
      "\n",
      "+---------+-------------+--------+\n",
      "|birthYear|person_gender|personId|\n",
      "+---------+-------------+--------+\n",
      "|     1972|            M|       0|\n",
      "|     2004|            F|       1|\n",
      "+---------+-------------+--------+\n",
      "only showing top 2 rows\n",
      "\n"
     ]
    }
   ],
   "source": [
    "detail(person_table)"
   ]
  },
  {
   "cell_type": "code",
   "execution_count": 636,
   "id": "1eb28972",
   "metadata": {},
   "outputs": [],
   "source": [
    "# Country table creation\n",
    "country_table = df2.select('bornCountry').distinct().withColumnRenamed(\"bornCountry\", \"countryId\") \\\n",
    "            \n",
    "country_name = spark.read.csv(country_detail_path).dropna()\n",
    "country_name = country_name.withColumn(\"_c0\", col(\"_c0\").cast(\"integer\"))\\\n",
    ".withColumnRenamed(\"_c0\", \"countryId_\").withColumnRenamed(\"_c1\", \"countryName\")\n",
    "                \n",
    "country_table = country_table.join(country_name, (country_table.countryId == country_name.countryId_))\\\n",
    "                             .drop('countryId_')\\\n",
    "                             .dropna()\\\n",
    "                             .dropDuplicates()\n",
    "write_to_parquet(country_table,\"country_table.parquet\" )"
   ]
  },
  {
   "cell_type": "code",
   "execution_count": 637,
   "id": "f15bb37c",
   "metadata": {},
   "outputs": [
    {
     "name": "stdout",
     "output_type": "stream",
     "text": [
      "Shape ==> (173, 2)\n",
      "Schema ::\n",
      "root\n",
      " |-- countryId: integer (nullable = true)\n",
      " |-- countryName: string (nullable = true)\n",
      "\n",
      "+---------+-------------------+\n",
      "|countryId|        countryName|\n",
      "+---------+-------------------+\n",
      "|      392|               MALI|\n",
      "|      516|TRINIDAD AND TOBAGO|\n",
      "+---------+-------------------+\n",
      "only showing top 2 rows\n",
      "\n"
     ]
    }
   ],
   "source": [
    "detail(country_table)"
   ]
  },
  {
   "cell_type": "code",
   "execution_count": 638,
   "id": "e68f0788",
   "metadata": {},
   "outputs": [],
   "source": [
    "# Arrival table creation\n",
    "arrival_port_table = df2.groupby('arrivalPort') \\\n",
    "                     .agg(F.countDistinct(\"arrivalAddress\"))\\\n",
    "                     .withColumnRenamed(\"count(arrivalAddress)\",\"numArrivalAddress\") \\\n",
    "                     .dropna() \\\n",
    "                     .dropDuplicates()\\\n",
    "                     .withColumn(\"arrivalPortId\", \\\n",
    "                        monotonically_increasing_id())\n",
    "arrival_data_map = spark.read.csv(arrival_port_map).dropna()\\\n",
    ".withColumnRenamed(\"_c0\",\"arrivalPort_\") \\\n",
    ".withColumnRenamed(\"_c1\",\"stateCode\")\n",
    "\n",
    "arrival_port_table = arrival_port_table\\\n",
    ".join(arrival_data_map,  (arrival_port_table.arrivalPort == arrival_data_map.arrivalPort_))\\\n",
    ".dropna()\n",
    "\n",
    "write_to_parquet(arrival_port_table,\"arrival_port_table.parquet\")"
   ]
  },
  {
   "cell_type": "code",
   "execution_count": 639,
   "id": "962d9415",
   "metadata": {},
   "outputs": [
    {
     "name": "stdout",
     "output_type": "stream",
     "text": [
      "Shape ==> (98, 5)\n",
      "Schema ::\n",
      "root\n",
      " |-- arrivalPort: string (nullable = true)\n",
      " |-- numArrivalAddress: long (nullable = false)\n",
      " |-- arrivalPortId: long (nullable = false)\n",
      " |-- arrivalPort_: string (nullable = true)\n",
      " |-- stateCode: string (nullable = true)\n",
      "\n",
      "+-----------+-----------------+-------------+------------+---------+\n",
      "|arrivalPort|numArrivalAddress|arrivalPortId|arrivalPort_|stateCode|\n",
      "+-----------+-----------------+-------------+------------+---------+\n",
      "|        FMY|               33|            0|         FMY|       FL|\n",
      "|        BGM|                2|            1|         BGM|       ME|\n",
      "+-----------+-----------------+-------------+------------+---------+\n",
      "only showing top 2 rows\n",
      "\n"
     ]
    }
   ],
   "source": [
    "detail(arrival_port_table)"
   ]
  },
  {
   "cell_type": "code",
   "execution_count": 640,
   "id": "8b555c81",
   "metadata": {},
   "outputs": [],
   "source": [
    "# Status table creation\n",
    "status_table = df2.select(['matchFlag']) \\\n",
    "               .withColumnRenamed('matchFlag', 'matchFlagField')\\\n",
    "               .dropna() \\\n",
    "               .dropDuplicates() \\\n",
    "               .withColumn(\"statusFlagId\", monotonically_increasing_id()) \n",
    "write_to_parquet(status_table,\"status_table.parquet\")"
   ]
  },
  {
   "cell_type": "code",
   "execution_count": 641,
   "id": "bff9c206",
   "metadata": {},
   "outputs": [
    {
     "name": "stdout",
     "output_type": "stream",
     "text": [
      "Shape ==> (1, 2)\n",
      "Schema ::\n",
      "root\n",
      " |-- matchFlagField: string (nullable = true)\n",
      " |-- statusFlagId: long (nullable = false)\n",
      "\n",
      "+--------------+------------+\n",
      "|matchFlagField|statusFlagId|\n",
      "+--------------+------------+\n",
      "|             M|           0|\n",
      "+--------------+------------+\n",
      "\n"
     ]
    }
   ],
   "source": [
    "detail(status_table)"
   ]
  },
  {
   "cell_type": "code",
   "execution_count": 688,
   "id": "56ee77c9",
   "metadata": {},
   "outputs": [
    {
     "name": "stdout",
     "output_type": "stream",
     "text": [
      "+-----+-------------+--------------------+------------+---------+-----------+----------+------------+--------+---------+----------+--------------------+\n",
      "|ident|         type|                name|elevation_ft|continent|iso_country|iso_region|municipality|gps_code|iata_code|local_code|         coordinates|\n",
      "+-----+-------------+--------------------+------------+---------+-----------+----------+------------+--------+---------+----------+--------------------+\n",
      "|  CLG|       closed|    Coalinga Airport|        null|       NA|         US|     US-CA|        null|    null|      CLG|      null|-120.360116959, 3...|\n",
      "| KC80|small_airport|New Coalinga Muni...|         622|       NA|         US|     US-CA|    Coalinga|    null|      CLG|       C80|-120.293998718261...|\n",
      "+-----+-------------+--------------------+------------+---------+-----------+----------+------------+--------+---------+----------+--------------------+\n",
      "\n",
      "(55075, 12)\n",
      "(1835, 11)\n"
     ]
    }
   ],
   "source": [
    "# Creating airport table\n",
    "airport = spark.read.format(\"csv\").option(\"header\", \"true\").option(\"delimiter\", \",\").load(airport_data)\n",
    "y = json_beautifier(airport)\n",
    "y.to_csv('airport_schema.csv')\n",
    "airport.where(col('iata_code') == 'CLG').show()\n",
    "shape(airport)\n",
    "airport = airport.where(\\\n",
    "            (col(\"iso_country\") == \"US\") &\\\n",
    "           (col(\"iata_code\").isNotNull())\\\n",
    "          & (col(\"type\").isin(\"large_airport\", \"medium_airport\", \"small_airport\")) \\\n",
    "          & (col(\"type\").isNotNull())) \\\n",
    "            .withColumn(\"isoRegion\", substring(col(\"iso_region\"), 4, 2)) \\\n",
    "            .dropna()\\\n",
    "            .dropDuplicates()\n",
    "\n",
    "airport = airport\\\n",
    ".withColumn(\"lat\", split(col(\"coordinates\"), \",\").getItem(0))\\\n",
    ".withColumn(\"long\", split(col(\"coordinates\"), \",\").getItem(1))\n",
    "\n",
    "airport = airport\\\n",
    ".withColumn(\"lat\", col(\"lat\").cast(\"float\"))\\\n",
    ".withColumn(\"long\", col(\"long\").cast(\"float\"))\\\n",
    ".drop('local_code', 'elevation_ft', 'continent', 'coordinates')\n",
    "\n",
    "airport_table = airport.select(['ident', 'type', 'name', 'isoRegion', 'municipality',\n",
    "                                'gps_code', 'iata_code','iso_country', 'lat', 'long']) \\\n",
    "               .dropDuplicates().dropna()\n",
    "write_to_parquet(airport_table,\"airport_table.parquet\" )\n",
    "shape(airport)\n"
   ]
  },
  {
   "cell_type": "code",
   "execution_count": 685,
   "id": "d5e744f6",
   "metadata": {},
   "outputs": [
    {
     "name": "stdout",
     "output_type": "stream",
     "text": [
      "+-----+----+----+-----------+----------+------------+--------+---------+---------+---+----+\n",
      "|ident|type|name|iso_country|iso_region|municipality|gps_code|iata_code|isoRegion|lat|long|\n",
      "+-----+----+----+-----------+----------+------------+--------+---------+---------+---+----+\n",
      "+-----+----+----+-----------+----------+------------+--------+---------+---------+---+----+\n",
      "\n"
     ]
    }
   ],
   "source": [
    "airport.where(col('iata_code') == 'CHI').show()"
   ]
  },
  {
   "cell_type": "code",
   "execution_count": 666,
   "id": "d7fbfdf2",
   "metadata": {},
   "outputs": [
    {
     "name": "stdout",
     "output_type": "stream",
     "text": [
      "Shape ==> (1909, 11)\n",
      "Schema ::\n",
      "root\n",
      " |-- ident: string (nullable = true)\n",
      " |-- type: string (nullable = true)\n",
      " |-- name: string (nullable = true)\n",
      " |-- iso_country: string (nullable = true)\n",
      " |-- iso_region: string (nullable = true)\n",
      " |-- municipality: string (nullable = true)\n",
      " |-- gps_code: string (nullable = true)\n",
      " |-- iata_code: string (nullable = true)\n",
      " |-- isoRegion: string (nullable = true)\n",
      " |-- lat: float (nullable = true)\n",
      " |-- long: float (nullable = true)\n",
      "\n",
      "+-----+--------------+--------------------+-----------+----------+--------------------+--------+---------+---------+--------+-------+\n",
      "|ident|          type|                name|iso_country|iso_region|        municipality|gps_code|iata_code|isoRegion|     lat|   long|\n",
      "+-----+--------------+--------------------+-----------+----------+--------------------+--------+---------+---------+--------+-------+\n",
      "| KBPT|medium_airport|Southeast Texas R...|         US|     US-TX|Beaumont/Port Arthur|    KBPT|      BPT|       TX|-94.0207|29.9508|\n",
      "| KMCI| large_airport|Kansas City Inter...|         US|     US-MO|         Kansas City|    KMCI|      MCI|       MO|-94.7139|39.2976|\n",
      "+-----+--------------+--------------------+-----------+----------+--------------------+--------+---------+---------+--------+-------+\n",
      "only showing top 2 rows\n",
      "\n"
     ]
    }
   ],
   "source": [
    "detail(airport)"
   ]
  },
  {
   "cell_type": "code",
   "execution_count": 682,
   "id": "8397bdfc",
   "metadata": {},
   "outputs": [
    {
     "name": "stdout",
     "output_type": "stream",
     "text": [
      "+-----+----+----+-----------+----------+------------+--------+---------+---------+---+----+\n",
      "|ident|type|name|iso_country|iso_region|municipality|gps_code|iata_code|isoRegion|lat|long|\n",
      "+-----+----+----+-----------+----------+------------+--------+---------+---------+---+----+\n",
      "+-----+----+----+-----------+----------+------------+--------+---------+---------+---+----+\n",
      "\n"
     ]
    }
   ],
   "source": []
  },
  {
   "cell_type": "code",
   "execution_count": 667,
   "id": "5c3ca2da",
   "metadata": {},
   "outputs": [
    {
     "name": "stdout",
     "output_type": "stream",
     "text": [
      "Shape ==> (2891, 12)\n",
      "Schema ::\n",
      "root\n",
      " |-- City: string (nullable = true)\n",
      " |-- State: string (nullable = true)\n",
      " |-- Median Age: string (nullable = true)\n",
      " |-- Male Population: string (nullable = true)\n",
      " |-- Female Population: string (nullable = true)\n",
      " |-- Total Population: string (nullable = true)\n",
      " |-- Number of Veterans: string (nullable = true)\n",
      " |-- Foreign-born: string (nullable = true)\n",
      " |-- Average Household Size: string (nullable = true)\n",
      " |-- State Code: string (nullable = true)\n",
      " |-- Race: string (nullable = true)\n",
      " |-- Count: string (nullable = true)\n",
      "\n",
      "+-------------+-------------+----------+---------------+-----------------+----------------+------------------+------------+----------------------+----------+------------------+-----+\n",
      "|         City|        State|Median Age|Male Population|Female Population|Total Population|Number of Veterans|Foreign-born|Average Household Size|State Code|              Race|Count|\n",
      "+-------------+-------------+----------+---------------+-----------------+----------------+------------------+------------+----------------------+----------+------------------+-----+\n",
      "|Silver Spring|     Maryland|      33.8|          40601|            41862|           82463|              1562|       30908|                   2.6|        MD|Hispanic or Latino|25924|\n",
      "|       Quincy|Massachusetts|      41.0|          44129|            49500|           93629|              4147|       32935|                  2.39|        MA|             White|58723|\n",
      "+-------------+-------------+----------+---------------+-----------------+----------------+------------------+------------+----------------------+----------+------------------+-----+\n",
      "only showing top 2 rows\n",
      "\n"
     ]
    }
   ],
   "source": [
    "# Creating demographics table\n",
    "dem = spark.read.format(\"csv\").option(\"header\", \"true\").option(\"delimiter\", \";\").load(demographic_data)\n",
    "z= json_beautifier(dem)\n",
    "z.to_csv('dem.csv')\n",
    "detail(dem)\n",
    "dem_table = dem \\\n",
    ".groupBy(col(\"State Code\").alias(\"stateCode\"), col(\"State\").alias(\"state\")).agg(\n",
    "        round(mean('Median Age'), 2).alias(\"medianAge\"),\\\n",
    "        sum(\"Total Population\").alias(\"totalPopulation\"),\\\n",
    "        sum(\"Male Population\").alias(\"malePopulation\"), \\\n",
    "        sum(\"Female Population\").alias(\"femalePopulation\"),\\\n",
    "        sum(\"Number of Veterans\").alias(\"numberOfVeterans\"),\\\n",
    "        sum(\"Foreign-born\").alias(\"foreignBorn\"), \\\n",
    "        round(mean(\"Average Household Size\"),2).alias(\"averageHouseholdSize\")\n",
    ").dropna()\n",
    "write_to_parquet(dem_table,\"dem_table.parquet\" )\n"
   ]
  },
  {
   "cell_type": "code",
   "execution_count": 668,
   "id": "558135f7",
   "metadata": {},
   "outputs": [
    {
     "name": "stdout",
     "output_type": "stream",
     "text": [
      "Shape ==> (2891, 12)\n",
      "Schema ::\n",
      "root\n",
      " |-- City: string (nullable = true)\n",
      " |-- State: string (nullable = true)\n",
      " |-- Median Age: string (nullable = true)\n",
      " |-- Male Population: string (nullable = true)\n",
      " |-- Female Population: string (nullable = true)\n",
      " |-- Total Population: string (nullable = true)\n",
      " |-- Number of Veterans: string (nullable = true)\n",
      " |-- Foreign-born: string (nullable = true)\n",
      " |-- Average Household Size: string (nullable = true)\n",
      " |-- State Code: string (nullable = true)\n",
      " |-- Race: string (nullable = true)\n",
      " |-- Count: string (nullable = true)\n",
      "\n",
      "+-------------+-------------+----------+---------------+-----------------+----------------+------------------+------------+----------------------+----------+------------------+-----+\n",
      "|         City|        State|Median Age|Male Population|Female Population|Total Population|Number of Veterans|Foreign-born|Average Household Size|State Code|              Race|Count|\n",
      "+-------------+-------------+----------+---------------+-----------------+----------------+------------------+------------+----------------------+----------+------------------+-----+\n",
      "|Silver Spring|     Maryland|      33.8|          40601|            41862|           82463|              1562|       30908|                   2.6|        MD|Hispanic or Latino|25924|\n",
      "|       Quincy|Massachusetts|      41.0|          44129|            49500|           93629|              4147|       32935|                  2.39|        MA|             White|58723|\n",
      "+-------------+-------------+----------+---------------+-----------------+----------------+------------------+------------+----------------------+----------+------------------+-----+\n",
      "only showing top 2 rows\n",
      "\n"
     ]
    }
   ],
   "source": [
    "detail(dem)"
   ]
  },
  {
   "cell_type": "code",
   "execution_count": 669,
   "id": "717f9ace",
   "metadata": {},
   "outputs": [
    {
     "name": "stdout",
     "output_type": "stream",
     "text": [
      "+----+-------------------------+\n",
      "|code|arrivalAddressDescription|\n",
      "+----+-------------------------+\n",
      "|  AL|                'ALABAMA'|\n",
      "|  AK|                 'ALASKA'|\n",
      "|  AZ|                'ARIZONA'|\n",
      "|  AR|               'ARKANSAS'|\n",
      "|  CA|             'CALIFORNIA'|\n",
      "|  CO|               'COLORADO'|\n",
      "|  CT|            'CONNECTICUT'|\n",
      "|  DE|               'DELAWARE'|\n",
      "|  DC|      'DIST. OF COLUMBIA'|\n",
      "|  FL|                'FLORIDA'|\n",
      "|  GA|                'GEORGIA'|\n",
      "|  GU|                   'GUAM'|\n",
      "|  HI|                 'HAWAII'|\n",
      "|  ID|                  'IDAHO'|\n",
      "|  IL|               'ILLINOIS'|\n",
      "|  IN|                'INDIANA'|\n",
      "|  IA|                   'IOWA'|\n",
      "|  KS|                 'KANSAS'|\n",
      "|  KY|               'KENTUCKY'|\n",
      "|  LA|              'LOUISIANA'|\n",
      "+----+-------------------------+\n",
      "only showing top 20 rows\n",
      "\n"
     ]
    }
   ],
   "source": [
    "valid_arrival_address = spark.read.format(\"csv\").option(\"header\", \"true\").option(\"delimiter\", \",\").load(valid_arrival_address_path)\n",
    "valid_arrival_address = valid_arrival_address\\\n",
    ".withColumnRenamed('_c0', 'code')\\\n",
    ".withColumnRenamed('0', 'arrivalAddressDescription')\\\n",
    "\n",
    "valid_arrival_address.show()\n"
   ]
  },
  {
   "cell_type": "code",
   "execution_count": 696,
   "id": "bbe9cb65",
   "metadata": {},
   "outputs": [
    {
     "name": "stdout",
     "output_type": "stream",
     "text": [
      "(68355, 12)\n"
     ]
    }
   ],
   "source": [
    "# Merging different tables\n",
    "common_cols = ['cicid', 'arrivalAddress','arrivalDate','departureDate','mode','bornCountry', 'visaId','visaType',\n",
    "                         'gender','arrivalPort', 'birthYear','matchFlag']\n",
    "df3 = df2.select(common_cols)\\\n",
    "     .where((col(\"age\") >= 0) & (col(\"cicid\").isNotNull())) \\\n",
    "     .where(col(\"birthYear\").isNotNull() & col(\"gender\").isNotNull())\\\n",
    "     .where(col(\"bornCountry\").isNotNull())\\\n",
    "     .where(col(\"arrivalAddress\").isNotNull())\\\n",
    "     .dropDuplicates(['cicid'])\\\n",
    "     .dropna()\n",
    "\n",
    "# Joining with valid address to pick correct records\n",
    "\n",
    "df3 = df3.join(valid_arrival_address, \\\n",
    "               (df3.arrivalAddress == valid_arrival_address.code), how='inner')\\\n",
    "         .dropna(subset=('arrivalAddress'))\\\n",
    "         .drop('code', 'arrivalAddressDescription')\n",
    "shape(df3)\n",
    "\n",
    "\n"
   ]
  },
  {
   "cell_type": "code",
   "execution_count": 697,
   "id": "7d6d7fb1",
   "metadata": {},
   "outputs": [
    {
     "name": "stdout",
     "output_type": "stream",
     "text": [
      "Shape ==> (68355, 12)\n",
      "Schema ::\n",
      "root\n",
      " |-- cicid: integer (nullable = true)\n",
      " |-- arrivalAddress: string (nullable = true)\n",
      " |-- arrivalDate: date (nullable = true)\n",
      " |-- departureDate: date (nullable = true)\n",
      " |-- mode: integer (nullable = true)\n",
      " |-- bornCountry: integer (nullable = true)\n",
      " |-- visaId: integer (nullable = true)\n",
      " |-- visaType: string (nullable = true)\n",
      " |-- gender: string (nullable = true)\n",
      " |-- arrivalPort: string (nullable = true)\n",
      " |-- birthYear: integer (nullable = true)\n",
      " |-- matchFlag: string (nullable = true)\n",
      "\n",
      "+------+--------------+-----------+-------------+----+-----------+------+--------+------+-----------+---------+---------+\n",
      "| cicid|arrivalAddress|arrivalDate|departureDate|mode|bornCountry|visaId|visaType|gender|arrivalPort|birthYear|matchFlag|\n",
      "+------+--------------+-----------+-------------+----+-----------+------+--------+------+-----------+---------+---------+\n",
      "|459674|            GA| 2016-04-03|   2016-04-07|   1|        135|     2|      WT|     M|        ATL|     1955|        M|\n",
      "|459682|            GA| 2016-04-03|   2016-04-07|   1|        135|     1|      WB|     M|        ATL|     1976|        M|\n",
      "+------+--------------+-----------+-------------+----+-----------+------+--------+------+-----------+---------+---------+\n",
      "only showing top 2 rows\n",
      "\n"
     ]
    }
   ],
   "source": [
    "small_table = df3.select(common_cols)\n",
    "detail(small_table)"
   ]
  },
  {
   "cell_type": "code",
   "execution_count": 698,
   "id": "3680f0eb",
   "metadata": {},
   "outputs": [
    {
     "name": "stdout",
     "output_type": "stream",
     "text": [
      "(68355, 12)\n"
     ]
    }
   ],
   "source": [
    "# merge with time, commenting the code to have arrivalDate as the column\n",
    "# small_table = small_table.withColumnRenamed(\"arrivalDate\", \"time\")  \n",
    "shape(small_table)"
   ]
  },
  {
   "cell_type": "code",
   "execution_count": 699,
   "id": "2592750c",
   "metadata": {},
   "outputs": [
    {
     "name": "stdout",
     "output_type": "stream",
     "text": [
      "(68355, 12)\n"
     ]
    }
   ],
   "source": [
    "# merge with status table\n",
    "small_table = small_table.join(status_table,\\\n",
    "                               (small_table.matchFlag == status_table.matchFlagField) , how = 'inner') \\\n",
    "                         .dropna() \\\n",
    "                        .drop('matchFlagField', 'matchFlag') \\\n",
    "                       .dropDuplicates()\n",
    "shape(small_table)"
   ]
  },
  {
   "cell_type": "code",
   "execution_count": 700,
   "id": "2ad84c92",
   "metadata": {},
   "outputs": [
    {
     "name": "stdout",
     "output_type": "stream",
     "text": [
      "Missing countries wrt country table\n",
      "+-----------+\n",
      "|bornCountry|\n",
      "+-----------+\n",
      "|        148|\n",
      "|        133|\n",
      "|        756|\n",
      "|        734|\n",
      "|        746|\n",
      "|        766|\n",
      "|        267|\n",
      "|        714|\n",
      "|        254|\n",
      "|        574|\n",
      "|        718|\n",
      "|        999|\n",
      "|        311|\n",
      "|        407|\n",
      "|        727|\n",
      "+-----------+\n",
      "\n"
     ]
    }
   ],
   "source": [
    "print(\"Missing countries wrt country table\")\n",
    "small_table.select('bornCountry').subtract(country_table.select(\"countryId\")).show()"
   ]
  },
  {
   "cell_type": "code",
   "execution_count": 701,
   "id": "a16c7326",
   "metadata": {},
   "outputs": [
    {
     "name": "stdout",
     "output_type": "stream",
     "text": [
      "(59910, 13)\n",
      "\n",
      "[Quality check]\n",
      "The number of rows has reduced because of missing countries from the I94_SAS_Labels_Descriptions.sas file\n",
      "\n"
     ]
    }
   ],
   "source": [
    "\n",
    "# merge with country\n",
    "small_table = small_table.join(country_table, (small_table.bornCountry == country_table.countryId) , how = 'inner') \\\n",
    "                         .dropna() \\\n",
    "                        .drop('bornCountry') \\\n",
    "                       .dropDuplicates()\n",
    "shape(small_table)\n",
    "print('''\n",
    "[Quality check]\n",
    "The number of rows has reduced because of missing countries from the I94_SAS_Labels_Descriptions.sas file\n",
    "'''\n",
    ")"
   ]
  },
  {
   "cell_type": "code",
   "execution_count": 702,
   "id": "f21c95d5",
   "metadata": {},
   "outputs": [
    {
     "name": "stdout",
     "output_type": "stream",
     "text": [
      "(59910, 13)\n"
     ]
    }
   ],
   "source": [
    "# merge with person\n",
    "small_table = small_table.join(person_table.select(['personId', 'person_gender', 'birthYear']),\n",
    "                               ((small_table.gender == person_table.person_gender) & \\\n",
    "                               (small_table.birthYear == person_table.birthYear)),\\\n",
    "                               how = 'inner') \\\n",
    "                      .drop('person_gender','birthYear') \\\n",
    "                      .dropna() \\\n",
    "                      .dropDuplicates()\n",
    "shape(small_table)"
   ]
  },
  {
   "cell_type": "code",
   "execution_count": 703,
   "id": "9032befb",
   "metadata": {},
   "outputs": [
    {
     "name": "stdout",
     "output_type": "stream",
     "text": [
      "\n",
      "[Quality Check]\n",
      "Missing countries wrt arrival table, these dont have a state code\n",
      "\n",
      "+-----------+\n",
      "|arrivalPort|\n",
      "+-----------+\n",
      "|        YGF|\n",
      "|        XXX|\n",
      "|        WAS|\n",
      "|        MAA|\n",
      "|        W55|\n",
      "+-----------+\n",
      "\n"
     ]
    }
   ],
   "source": [
    "print('''\n",
    "[Quality Check]\n",
    "Missing countries wrt arrival table, these dont have a state code\n",
    "''')\n",
    "small_table.select('arrivalPort').subtract(arrival_port_table.select(\"arrivalPort_\")).show()"
   ]
  },
  {
   "cell_type": "code",
   "execution_count": 704,
   "id": "9f499db7",
   "metadata": {},
   "outputs": [
    {
     "name": "stdout",
     "output_type": "stream",
     "text": [
      "(57852, 15)\n"
     ]
    }
   ],
   "source": [
    "# merge with arrival\n",
    "small_table = small_table.join(arrival_port_table.select(['arrivalPortId', 'arrivalPort_', 'stateCode']),  \\\n",
    "                              (small_table.arrivalPort == arrival_port_table.arrivalPort_) , how = 'inner') \\\n",
    "                       .drop('arrivalPort_')\\\n",
    "                       .dropna()\\\n",
    "                       .dropDuplicates()\n",
    "shape(small_table)"
   ]
  },
  {
   "cell_type": "code",
   "execution_count": 705,
   "id": "c6b970a3",
   "metadata": {},
   "outputs": [
    {
     "name": "stdout",
     "output_type": "stream",
     "text": [
      "[Quality Check]\n",
      "Missing arrival ports i.e \n",
      "which do not have an IATA code or\n",
      "are not based in USA\n",
      "or have nulls in the airport table row\n",
      "39\n",
      "+-----------+\n",
      "|arrivalPort|\n",
      "+-----------+\n",
      "|AGA        |\n",
      "|BAL        |\n",
      "|CHI        |\n",
      "|CLG        |\n",
      "|DUB        |\n",
      "|EDA        |\n",
      "|FRB        |\n",
      "|FTL        |\n",
      "|HAL        |\n",
      "|HAM        |\n",
      "|HEF        |\n",
      "|HHW        |\n",
      "|INP        |\n",
      "|KAN        |\n",
      "|LNB        |\n",
      "|LOS        |\n",
      "|LVG        |\n",
      "|MCA        |\n",
      "|MON        |\n",
      "|NAS        |\n",
      "+-----------+\n",
      "only showing top 20 rows\n",
      "\n",
      "None\n"
     ]
    },
    {
     "data": {
      "text/plain": [
       "[Row(cicid=461933, arrivalAddress='GU', arrivalDate=datetime.date(2016, 4, 3), departureDate=datetime.date(2016, 4, 11), mode=1, bornCountry=135, visaId=2, visaType='WT', gender='M', arrivalPort='AGA', birthYear=1974, matchFlag='M')]"
      ]
     },
     "execution_count": 705,
     "metadata": {},
     "output_type": "execute_result"
    }
   ],
   "source": [
    "print('''[Quality Check]\n",
    "Missing arrival ports i.e \n",
    "which do not have an IATA code or\n",
    "are not based in USA\n",
    "or have nulls in the airport table row''')\n",
    "print(small_table.select('arrivalPort').subtract(airport.select(\"iata_code\")).count())\n",
    "print(small_table.select('arrivalPort').subtract(airport.select(\"iata_code\")).show(truncate=False))\n",
    "df3.where(col('arrivalPort') == 'AGA').take(1)\n",
    "\n",
    "\n"
   ]
  },
  {
   "cell_type": "code",
   "execution_count": 706,
   "id": "e74b7d1f",
   "metadata": {},
   "outputs": [
    {
     "name": "stdout",
     "output_type": "stream",
     "text": [
      "(24903, 16)\n"
     ]
    }
   ],
   "source": [
    "# merge airports data\n",
    "small_table = small_table.join(airport.select(['ident', 'iata_code']),\\\n",
    "                               (small_table.arrivalPort == airport['iata_code']),\\\n",
    "                               how = 'inner')\\\n",
    "                         .drop('iata_code') \\\n",
    "                         .dropna() \\\n",
    "                         .dropDuplicates()\n",
    "shape(small_table)"
   ]
  },
  {
   "cell_type": "code",
   "execution_count": 708,
   "id": "b92c53a8",
   "metadata": {},
   "outputs": [
    {
     "name": "stdout",
     "output_type": "stream",
     "text": [
      "[Quality Check]\n",
      "Missing state code i.e \n",
      "which are present in immigration table but missing from demographics data set\n",
      "3\n",
      "+---------+\n",
      "|stateCode|\n",
      "+---------+\n",
      "|CANADA   |\n",
      "|VI       |\n",
      "|WV       |\n",
      "+---------+\n",
      "\n",
      "None\n"
     ]
    }
   ],
   "source": [
    "print('''[Quality Check]\n",
    "Missing state code i.e \n",
    "which are present in immigration table but missing from demographics data set''')\n",
    "print(small_table.select('stateCode').subtract(dem.select('State Code')).count())\n",
    "print(small_table.select('stateCode').subtract(dem.select('State Code')).show(truncate=False))"
   ]
  },
  {
   "cell_type": "code",
   "execution_count": 709,
   "id": "e57bcada",
   "metadata": {},
   "outputs": [],
   "source": [
    "# merge demographics data\n",
    "small_table = small_table.join(dem.select(['State Code', 'State']),\\\n",
    "                               (small_table.stateCode == dem['State Code']),\\\n",
    "                               how = 'inner')\\\n",
    "                         .drop('stateCode') \\\n",
    "                         .dropna() \\\n",
    "                         .dropDuplicates()"
   ]
  },
  {
   "cell_type": "code",
   "execution_count": 710,
   "id": "bb50e177",
   "metadata": {},
   "outputs": [
    {
     "name": "stdout",
     "output_type": "stream",
     "text": [
      "Shape ==> (24210, 17)\n",
      "Schema ::\n",
      "root\n",
      " |-- cicid: integer (nullable = true)\n",
      " |-- arrivalAddress: string (nullable = true)\n",
      " |-- arrivalDate: date (nullable = true)\n",
      " |-- departureDate: date (nullable = true)\n",
      " |-- mode: integer (nullable = true)\n",
      " |-- visaId: integer (nullable = true)\n",
      " |-- visaType: string (nullable = true)\n",
      " |-- gender: string (nullable = true)\n",
      " |-- arrivalPort: string (nullable = true)\n",
      " |-- statusFlagId: long (nullable = false)\n",
      " |-- countryId: integer (nullable = true)\n",
      " |-- countryName: string (nullable = true)\n",
      " |-- personId: long (nullable = false)\n",
      " |-- arrivalPortId: long (nullable = false)\n",
      " |-- ident: string (nullable = true)\n",
      " |-- State Code: string (nullable = true)\n",
      " |-- State: string (nullable = true)\n",
      "\n",
      "+------+--------------+-----------+-------------+----+------+--------+------+-----------+------------+---------+-----------+--------+-------------+-----+----------+-------+\n",
      "| cicid|arrivalAddress|arrivalDate|departureDate|mode|visaId|visaType|gender|arrivalPort|statusFlagId|countryId|countryName|personId|arrivalPortId|ident|State Code|  State|\n",
      "+------+--------------+-----------+-------------+----+------+--------+------+-----------+------------+---------+-----------+--------+-------------+-----+----------+-------+\n",
      "|814011|            FL| 2016-04-05|   2016-04-13|   1|     2|      WT|     F|        FMY|           0|      104|    BELGIUM|      10|            0| KFMY|        FL|Florida|\n",
      "|834514|            FL| 2016-04-05|   2016-04-16|   1|     2|      WT|     F|        FMY|           0|      131|SWITZERLAND|     116|            0| KFMY|        FL|Florida|\n",
      "+------+--------------+-----------+-------------+----+------+--------+------+-----------+------------+---------+-----------+--------+-------------+-----+----------+-------+\n",
      "only showing top 2 rows\n",
      "\n"
     ]
    }
   ],
   "source": [
    "detail(small_table)"
   ]
  },
  {
   "cell_type": "code",
   "execution_count": 711,
   "id": "f6fff800",
   "metadata": {},
   "outputs": [],
   "source": [
    "list_of_tables = [country_table, time_table, arrival_port_table, person_table, status_table, airport, dem, small_table]\n",
    "labels = ['country', 'time','arrival', 'person', 'status', 'airport', 'dem', 'fact']"
   ]
  },
  {
   "cell_type": "code",
   "execution_count": 712,
   "id": "10b56b66",
   "metadata": {},
   "outputs": [],
   "source": [
    "for table, label in zip(list_of_tables, labels):\n",
    "    f = json_beautifier(table)\n",
    "    f.to_csv('{}_schema.csv'.format(label))"
   ]
  },
  {
   "cell_type": "markdown",
   "id": "468f94d0",
   "metadata": {},
   "source": [
    "## In conclusion we see for the given dataset, airline mismatches reduces the maximum number of data, but in order to maintain different constraints the final fact table is populated correctly i.e. with 24210 rows"
   ]
  },
  {
   "cell_type": "code",
   "execution_count": null,
   "id": "c399b792",
   "metadata": {},
   "outputs": [],
   "source": []
  }
 ],
 "metadata": {
  "kernelspec": {
   "display_name": "Python 3 (ipykernel)",
   "language": "python",
   "name": "python3"
  },
  "language_info": {
   "codemirror_mode": {
    "name": "ipython",
    "version": 3
   },
   "file_extension": ".py",
   "mimetype": "text/x-python",
   "name": "python",
   "nbconvert_exporter": "python",
   "pygments_lexer": "ipython3",
   "version": "3.9.10"
  }
 },
 "nbformat": 4,
 "nbformat_minor": 5
}
