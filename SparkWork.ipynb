{
 "cells": [
  {
   "cell_type": "code",
   "execution_count": 1,
   "id": "678c1c75",
   "metadata": {},
   "outputs": [
    {
     "name": "stdout",
     "output_type": "stream",
     "text": [
      "Setup complete\n"
     ]
    }
   ],
   "source": [
    "from pyspark.sql import SparkSession, SQLContext, GroupedData, HiveContext\n",
    "from pyspark.sql.functions import *\n",
    "from pyspark.sql.functions import date_add as d_add\n",
    "from pyspark.sql.types import DoubleType\n",
    "from pyspark.sql.functions import year, month, dayofmonth, weekofyear, date_format\n",
    "from pyspark.sql import functions as F\n",
    "from pyspark.sql.functions import monotonically_increasing_id\n",
    "from pyspark.sql.functions import lit\n",
    "from pyspark.sql import Row\n",
    "import os \n",
    "import pandas as pd \n",
    "import numpy as np\n",
    "# Increased memory\n",
    "spark = SparkSession.builder.\\\n",
    "config(\"spark.jars.packages\",\"saurfang:spark-sas7bdat:2.0.0-s_2.11\")\\\n",
    ".config(\"spark.python.worker.memory\", \"15g\") \\\n",
    ".enableHiveSupport().getOrCreate()\n",
    "print(\"Setup complete\")"
   ]
  },
  {
   "cell_type": "code",
   "execution_count": 2,
   "id": "4e7a8c2d",
   "metadata": {},
   "outputs": [
    {
     "data": {
      "text/plain": [
       "['I94_SAS_Labels_Descriptions.sas',\n",
       " 'airport-codes_csv.csv',\n",
       " 'arrival_port_map.csv',\n",
       " 'country_details.csv',\n",
       " 'flight_number.csv',\n",
       " 'immigration_data_sample.csv',\n",
       " 'mismatch.csv',\n",
       " 'sas_data',\n",
       " 'us-cities-demographics.csv']"
      ]
     },
     "execution_count": 2,
     "metadata": {},
     "output_type": "execute_result"
    }
   ],
   "source": [
    "os.listdir(os.getcwd()+'/data')"
   ]
  },
  {
   "cell_type": "code",
   "execution_count": 3,
   "id": "f3470b52",
   "metadata": {},
   "outputs": [],
   "source": [
    "# Setting up Files to read\n",
    "data_dir = os.path.join(os.getcwd(), 'data')\n",
    "country_detail_path = os.path.join(data_dir, r'country_details.csv')\n",
    "airport_mismatch_path =  os.path.join(data_dir,r'mismatch.csv') \n",
    "airport_data = os.path.join(data_dir, 'airport-codes_csv.csv')\n",
    "arrival_port_map = os.path.join(data_dir, 'arrival_port_map.csv')\n",
    "demographic_data = os.path.join(data_dir, 'us-cities-demographics.csv')\n",
    "sas_path = os.path.join(data_dir, 'sas_data')\n",
    "sas_path_specific = os.path.join(sas_path, 'part-00001-b9542815-7a8d-45fc-9c67-c9c5007ad0d4-c000.snappy.parquet')\n",
    "output_path = os.path.join(os.getcwd(), 'spark_output_parquet')"
   ]
  },
  {
   "cell_type": "code",
   "execution_count": 4,
   "id": "df3d59c8",
   "metadata": {},
   "outputs": [],
   "source": [
    "# util functions\n",
    "def shape(d):\n",
    "    print((d.count(), len(d.columns)))\n",
    "    \n",
    "def detail(d):\n",
    "    print(\"Shape ==>\", (d.count(), len(d.columns)))\n",
    "    print(\"Schema ::\")\n",
    "    d.printSchema()\n",
    "    d.show(2)"
   ]
  },
  {
   "cell_type": "code",
   "execution_count": 5,
   "id": "9d0fb90c",
   "metadata": {},
   "outputs": [
    {
     "name": "stdout",
     "output_type": "stream",
     "text": [
      "part-00000-b9542815-7a8d-45fc-9c67-c9c5007ad0d4-c000.snappy.parquet\r\n",
      "part-00001-b9542815-7a8d-45fc-9c67-c9c5007ad0d4-c000.snappy.parquet\r\n",
      "part-00002-b9542815-7a8d-45fc-9c67-c9c5007ad0d4-c000.snappy.parquet\r\n",
      "part-00003-b9542815-7a8d-45fc-9c67-c9c5007ad0d4-c000.snappy.parquet\r\n",
      "part-00004-b9542815-7a8d-45fc-9c67-c9c5007ad0d4-c000.snappy.parquet\r\n",
      "part-00005-b9542815-7a8d-45fc-9c67-c9c5007ad0d4-c000.snappy.parquet\r\n",
      "part-00006-b9542815-7a8d-45fc-9c67-c9c5007ad0d4-c000.snappy.parquet\r\n",
      "part-00007-b9542815-7a8d-45fc-9c67-c9c5007ad0d4-c000.snappy.parquet\r\n",
      "part-00008-b9542815-7a8d-45fc-9c67-c9c5007ad0d4-c000.snappy.parquet\r\n",
      "part-00009-b9542815-7a8d-45fc-9c67-c9c5007ad0d4-c000.snappy.parquet\r\n",
      "part-00010-b9542815-7a8d-45fc-9c67-c9c5007ad0d4-c000.snappy.parquet\r\n",
      "part-00011-b9542815-7a8d-45fc-9c67-c9c5007ad0d4-c000.snappy.parquet\r\n",
      "part-00012-b9542815-7a8d-45fc-9c67-c9c5007ad0d4-c000.snappy.parquet\r\n",
      "part-00013-b9542815-7a8d-45fc-9c67-c9c5007ad0d4-c000.snappy.parquet\r\n",
      "_SUCCESS\r\n"
     ]
    }
   ],
   "source": [
    "!ls /home/jovyan/work/data/sas_data"
   ]
  },
  {
   "cell_type": "code",
   "execution_count": 6,
   "id": "3b674a72",
   "metadata": {},
   "outputs": [
    {
     "name": "stdout",
     "output_type": "stream",
     "text": [
      "/home/jovyan/work/data/sas_data\n",
      "Shape ==> (220160, 28)\n",
      "Schema ::\n",
      "root\n",
      " |-- cicid: double (nullable = true)\n",
      " |-- i94yr: double (nullable = true)\n",
      " |-- i94mon: double (nullable = true)\n",
      " |-- i94cit: double (nullable = true)\n",
      " |-- i94res: double (nullable = true)\n",
      " |-- i94port: string (nullable = true)\n",
      " |-- arrdate: double (nullable = true)\n",
      " |-- i94mode: double (nullable = true)\n",
      " |-- i94addr: string (nullable = true)\n",
      " |-- depdate: double (nullable = true)\n",
      " |-- i94bir: double (nullable = true)\n",
      " |-- i94visa: double (nullable = true)\n",
      " |-- count: double (nullable = true)\n",
      " |-- dtadfile: string (nullable = true)\n",
      " |-- visapost: string (nullable = true)\n",
      " |-- occup: string (nullable = true)\n",
      " |-- entdepa: string (nullable = true)\n",
      " |-- entdepd: string (nullable = true)\n",
      " |-- entdepu: string (nullable = true)\n",
      " |-- matflag: string (nullable = true)\n",
      " |-- biryear: double (nullable = true)\n",
      " |-- dtaddto: string (nullable = true)\n",
      " |-- gender: string (nullable = true)\n",
      " |-- insnum: string (nullable = true)\n",
      " |-- airline: string (nullable = true)\n",
      " |-- admnum: double (nullable = true)\n",
      " |-- fltno: string (nullable = true)\n",
      " |-- visatype: string (nullable = true)\n",
      "\n",
      "+--------+------+------+------+------+-------+-------+-------+-------+-------+------+-------+-----+--------+--------+-----+-------+-------+-------+-------+-------+--------+------+------+-------+---------------+-----+--------+\n",
      "|   cicid| i94yr|i94mon|i94cit|i94res|i94port|arrdate|i94mode|i94addr|depdate|i94bir|i94visa|count|dtadfile|visapost|occup|entdepa|entdepd|entdepu|matflag|biryear| dtaddto|gender|insnum|airline|         admnum|fltno|visatype|\n",
      "+--------+------+------+------+------+-------+-------+-------+-------+-------+------+-------+-----+--------+--------+-----+-------+-------+-------+-------+-------+--------+------+------+-------+---------------+-----+--------+\n",
      "|459651.0|2016.0|   4.0| 135.0| 135.0|    ATL|20547.0|    1.0|     FL|20559.0|  54.0|    2.0|  1.0|20160403|    null| null|      O|      R|   null|      M| 1962.0|07012016|  null|  null|     VS|5.5556253633E10|00115|      WT|\n",
      "|459652.0|2016.0|   4.0| 135.0| 135.0|    ATL|20547.0|    1.0|     FL|20555.0|  74.0|    2.0|  1.0|20160403|    null| null|      T|      O|   null|      M| 1942.0|07012016|     F|  null|     VS|   6.74406485E8|  103|      WT|\n",
      "+--------+------+------+------+------+-------+-------+-------+-------+-------+------+-------+-----+--------+--------+-----+-------+-------+-------+-------+-------+--------+------+------+-------+---------------+-----+--------+\n",
      "only showing top 2 rows\n",
      "\n"
     ]
    }
   ],
   "source": [
    "# Reading immigration data\n",
    "print(sas_path)\n",
    "df=spark.read.parquet(sas_path_specific)\n",
    "detail(df)"
   ]
  },
  {
   "cell_type": "code",
   "execution_count": 7,
   "id": "204b6dec",
   "metadata": {},
   "outputs": [],
   "source": [
    "import json\n",
    "def json_beautifier(d):\n",
    "    s = json.loads(d.schema.json())['fields']\n",
    "    cols = ['Field', 'Type', 'Nullable']\n",
    "    schema_df = pd.DataFrame(columns=cols, data={\n",
    "        'Field': [x['name'] for x in s],\n",
    "        'Type': [x['type'] for x in s],\n",
    "        'Nullable': [x['nullable'] for x in s]\n",
    "    })\n",
    "    return schema_df\n",
    "\n",
    "x = json_beautifier(df)\n",
    "x.to_csv('abc.csv')\n"
   ]
  },
  {
   "cell_type": "code",
   "execution_count": 8,
   "id": "4de2b0d9",
   "metadata": {},
   "outputs": [],
   "source": [
    "def write_to_parquet(table, file_name):\n",
    "    \"\"\"\n",
    "    Write the table as parquet file\n",
    "    Parameters:\n",
    "        table\n",
    "        Name of the file\n",
    "    Returns:\n",
    "        Outputs the table as parquet file to a folder\n",
    "    \"\"\"\n",
    "    file_output = os.path.join(output_path, file_name)\n",
    "    table.write.mode(\"overwrite\").parquet(file_output)"
   ]
  },
  {
   "cell_type": "code",
   "execution_count": 9,
   "id": "6edb1d9a",
   "metadata": {},
   "outputs": [
    {
     "name": "stdout",
     "output_type": "stream",
     "text": [
      "Immigration_table schema:\n",
      "root\n",
      " |-- cicid: double (nullable = true)\n",
      " |-- i94yr: double (nullable = true)\n",
      " |-- i94mon: double (nullable = true)\n",
      " |-- i94cit: double (nullable = true)\n",
      " |-- i94res: double (nullable = true)\n",
      " |-- i94port: string (nullable = true)\n",
      " |-- arrdate: double (nullable = true)\n",
      " |-- i94mode: double (nullable = true)\n",
      " |-- i94addr: string (nullable = true)\n",
      " |-- depdate: double (nullable = true)\n",
      " |-- i94bir: double (nullable = true)\n",
      " |-- i94visa: double (nullable = true)\n",
      " |-- count: double (nullable = true)\n",
      " |-- dtadfile: string (nullable = true)\n",
      " |-- visapost: string (nullable = true)\n",
      " |-- occup: string (nullable = true)\n",
      " |-- entdepa: string (nullable = true)\n",
      " |-- entdepd: string (nullable = true)\n",
      " |-- entdepu: string (nullable = true)\n",
      " |-- matflag: string (nullable = true)\n",
      " |-- biryear: double (nullable = true)\n",
      " |-- dtaddto: string (nullable = true)\n",
      " |-- gender: string (nullable = true)\n",
      " |-- insnum: string (nullable = true)\n",
      " |-- airline: string (nullable = true)\n",
      " |-- admnum: double (nullable = true)\n",
      " |-- fltno: string (nullable = true)\n",
      " |-- visatype: string (nullable = true)\n",
      "\n"
     ]
    }
   ],
   "source": [
    "print(\"Immigration_table schema:\")\n",
    "df.printSchema()"
   ]
  },
  {
   "cell_type": "code",
   "execution_count": 10,
   "id": "125605a5",
   "metadata": {},
   "outputs": [
    {
     "name": "stdout",
     "output_type": "stream",
     "text": [
      "(87680, 28)\n",
      "(220160, 28)\n"
     ]
    }
   ],
   "source": [
    "# sampling down to run with a smaller dataset\n",
    "df_small = df.sample(withReplacement=False, fraction=0.4, seed=3)\n",
    "shape(df_small)\n",
    "shape(df)"
   ]
  },
  {
   "cell_type": "code",
   "execution_count": 11,
   "id": "686e1eb8",
   "metadata": {},
   "outputs": [],
   "source": [
    "# Adjusting the immigration dataframe\n",
    "df2 = df_small \\\n",
    ".withColumn(\"cicid\", col(\"cicid\").cast(\"integer\")) \\\n",
    ".withColumn(\"year\", col(\"i94yr\").cast(\"integer\")) \\\n",
    ".drop(\"i94yr\") \\\n",
    ".withColumn(\"month\", col(\"i94mon\").cast(\"integer\")) \\\n",
    ".drop(\"i94mon\") \\\n",
    ".withColumn(\"bornCountry\", col(\"i94cit\").cast(\"integer\")) \\\n",
    ".drop(\"i94cit\") \\\n",
    ".withColumn(\"residentCountry\", col(\"i94res\").cast(\"integer\")) \\\n",
    ".drop(\"i94res\") \\\n",
    ".withColumnRenamed(\"i94port\", \"arrivalPort\") \\\n",
    ".withColumn(\"mode\", col(\"i94mode\").cast(\"integer\")) \\\n",
    ".drop(\"i94mode\") \\\n",
    ".withColumnRenamed(\"i94addr\", \"arrivalAddress\") \\\n",
    ".withColumn(\"age\", col(\"i94bir\").cast(\"integer\")) \\\n",
    ".drop(\"i94bir\") \\\n",
    ".withColumn(\"visaId\", col(\"i94visa\").cast(\"integer\")) \\\n",
    ".drop(\"i94visa\") \\\n",
    ".withColumnRenamed(\"entdepa\", \"arrivalFlag\") \\\n",
    ".withColumnRenamed(\"entdepd\", \"departureFlag\") \\\n",
    ".withColumnRenamed(\"entdepu\", \"updateFlag\") \\\n",
    ".withColumnRenamed(\"matflag\", \"matchFlag\") \\\n",
    ".withColumn(\"birthYear\", col(\"biryear\").cast(\"integer\")) \\\n",
    ".drop(\"biryear\") \\\n",
    ".withColumnRenamed(\"fltno\", \"flightNumber\") \\\n",
    ".withColumnRenamed(\"visaType\", \"visaType\") \\\n",
    ".withColumn(\"sasDate\", to_date(lit(\"01/01/1960\"), \"MM/dd/yyyy\")) \\\n",
    ".withColumn(\"arrdate\", col(\"arrdate\").cast(\"integer\")) \\\n",
    ".withColumn(\"depdate\", col(\"depdate\").cast(\"integer\")) \\\n",
    ".withColumn(\"arrivalDate\", expr(\"date_add(sasDate, arrdate)\")) \\\n",
    ".withColumn(\"departureDate\", expr(\"date_add(sasDate, depdate)\")) \\\n",
    ".drop(\"sasDate\", \"arrdate\", \"depdate\", \"count\", \"admnum\", \"dtadfile\", \"visapost\", \"occup\", \"dtaddto\", \"insnum\")\n",
    "\n"
   ]
  },
  {
   "cell_type": "code",
   "execution_count": 12,
   "id": "a904bfcd",
   "metadata": {},
   "outputs": [
    {
     "name": "stdout",
     "output_type": "stream",
     "text": [
      "New Immigration data schema:\n",
      "root\n",
      " |-- cicid: integer (nullable = true)\n",
      " |-- arrivalPort: string (nullable = true)\n",
      " |-- arrivalAddress: string (nullable = true)\n",
      " |-- arrivalFlag: string (nullable = true)\n",
      " |-- departureFlag: string (nullable = true)\n",
      " |-- updateFlag: string (nullable = true)\n",
      " |-- matchFlag: string (nullable = true)\n",
      " |-- gender: string (nullable = true)\n",
      " |-- airline: string (nullable = true)\n",
      " |-- flightNumber: string (nullable = true)\n",
      " |-- visaType: string (nullable = true)\n",
      " |-- year: integer (nullable = true)\n",
      " |-- month: integer (nullable = true)\n",
      " |-- bornCountry: integer (nullable = true)\n",
      " |-- residentCountry: integer (nullable = true)\n",
      " |-- mode: integer (nullable = true)\n",
      " |-- age: integer (nullable = true)\n",
      " |-- visaId: integer (nullable = true)\n",
      " |-- birthYear: integer (nullable = true)\n",
      " |-- arrivalDate: date (nullable = true)\n",
      " |-- departureDate: date (nullable = true)\n",
      "\n"
     ]
    }
   ],
   "source": [
    "print(\"New Immigration data schema:\")\n",
    "df2.printSchema()"
   ]
  },
  {
   "cell_type": "code",
   "execution_count": 13,
   "id": "75b4986b",
   "metadata": {},
   "outputs": [],
   "source": [
    "# Time table creation\n",
    "time_table = df2.select(['arrivalDate'])\\\n",
    "                    .withColumnRenamed('arrivalDate','time') \n",
    "\n",
    "time_table = time_table \\\n",
    "             .withColumn('day', F.dayofmonth('time')) \\\n",
    "             .withColumn('month', F.month('time')) \\\n",
    "             .withColumn('year', F.year('time')) \\\n",
    "             .withColumn('week', F.weekofyear('time')) \\\n",
    "             .withColumn('weekday', F.dayofweek('time'))\\\n",
    "             .dropDuplicates()\n",
    "write_to_parquet(time_table,\"time_table.parquet\" )"
   ]
  },
  {
   "cell_type": "code",
   "execution_count": 14,
   "id": "45f1c453",
   "metadata": {},
   "outputs": [
    {
     "name": "stdout",
     "output_type": "stream",
     "text": [
      "Shape ==> (4, 6)\n",
      "Schema ::\n",
      "root\n",
      " |-- time: date (nullable = true)\n",
      " |-- day: integer (nullable = true)\n",
      " |-- month: integer (nullable = true)\n",
      " |-- year: integer (nullable = true)\n",
      " |-- week: integer (nullable = true)\n",
      " |-- weekday: integer (nullable = true)\n",
      "\n",
      "+----------+---+-----+----+----+-------+\n",
      "|      time|day|month|year|week|weekday|\n",
      "+----------+---+-----+----+----+-------+\n",
      "|2016-04-05|  5|    4|2016|  14|      3|\n",
      "|2016-04-02|  2|    4|2016|  13|      7|\n",
      "+----------+---+-----+----+----+-------+\n",
      "only showing top 2 rows\n",
      "\n"
     ]
    }
   ],
   "source": [
    "detail(time_table)"
   ]
  },
  {
   "cell_type": "code",
   "execution_count": 15,
   "id": "5829f3a5",
   "metadata": {},
   "outputs": [],
   "source": [
    "# Person table creation\n",
    "person_table = df2.select(['birthYear','gender']) \\\n",
    "                 .dropDuplicates() \\\n",
    "                 .withColumn(\"personId\", \\\n",
    "                        monotonically_increasing_id())\\\n",
    "                 .withColumnRenamed(\"gender\", \"person_gender\")\n",
    "write_to_parquet(person_table,\"person_table.parquet\" )"
   ]
  },
  {
   "cell_type": "code",
   "execution_count": 16,
   "id": "39cfe544",
   "metadata": {},
   "outputs": [
    {
     "name": "stdout",
     "output_type": "stream",
     "text": [
      "Shape ==> (286, 3)\n",
      "Schema ::\n",
      "root\n",
      " |-- birthYear: integer (nullable = true)\n",
      " |-- person_gender: string (nullable = true)\n",
      " |-- personId: long (nullable = false)\n",
      "\n",
      "+---------+-------------+--------+\n",
      "|birthYear|person_gender|personId|\n",
      "+---------+-------------+--------+\n",
      "|     1972|            M|       0|\n",
      "|     1959|         null|       1|\n",
      "+---------+-------------+--------+\n",
      "only showing top 2 rows\n",
      "\n"
     ]
    }
   ],
   "source": [
    "detail(person_table)"
   ]
  },
  {
   "cell_type": "code",
   "execution_count": 17,
   "id": "1eb28972",
   "metadata": {},
   "outputs": [],
   "source": [
    "# Country table creation\n",
    "country_table = df2.select('bornCountry').distinct().withColumnRenamed(\"bornCountry\", \"countryId\") \\\n",
    "            \n",
    "country_name = spark.read.csv(country_detail_path).dropna()\n",
    "country_name = country_name.withColumn(\"_c0\", col(\"_c0\").cast(\"integer\"))\\\n",
    ".withColumnRenamed(\"_c0\", \"countryId_\").withColumnRenamed(\"_c1\", \"countryName\")\n",
    "                \n",
    "country_table = country_table.join(country_name, (country_table.countryId == country_name.countryId_)).drop('countryId_')\n",
    "write_to_parquet(country_table,\"country_table.parquet\" )"
   ]
  },
  {
   "cell_type": "code",
   "execution_count": 18,
   "id": "f15bb37c",
   "metadata": {},
   "outputs": [
    {
     "name": "stdout",
     "output_type": "stream",
     "text": [
      "Shape ==> (173, 2)\n",
      "Schema ::\n",
      "root\n",
      " |-- countryId: integer (nullable = true)\n",
      " |-- countryName: string (nullable = true)\n",
      "\n",
      "+---------+-------------------+\n",
      "|countryId|        countryName|\n",
      "+---------+-------------------+\n",
      "|      392|               MALI|\n",
      "|      516|TRINIDAD AND TOBAGO|\n",
      "+---------+-------------------+\n",
      "only showing top 2 rows\n",
      "\n"
     ]
    }
   ],
   "source": [
    "detail(country_table)"
   ]
  },
  {
   "cell_type": "code",
   "execution_count": 19,
   "id": "e68f0788",
   "metadata": {},
   "outputs": [],
   "source": [
    "# Arrival table creation\n",
    "arrival_port_table = df2.groupby('arrivalPort') \\\n",
    "                     .agg(F.countDistinct(\"arrivalAddress\"))\\\n",
    "                     .withColumnRenamed(\"count(arrivalAddress)\",\"numArrivalAddress\") \\\n",
    "                     .dropna() \\\n",
    "                     .dropDuplicates()\\\n",
    "                     .withColumn(\"arrivalPortId\", \\\n",
    "                        monotonically_increasing_id())\n",
    "arrival_data_map = spark.read.csv(arrival_port_map).dropna()\\\n",
    ".withColumnRenamed(\"_c0\",\"arrivalPort_\") \\\n",
    ".withColumnRenamed(\"_c1\",\"stateCode\")\n",
    "\n",
    "arrival_port_table = arrival_port_table\\\n",
    ".join(arrival_data_map,  (arrival_port_table.arrivalPort == arrival_data_map.arrivalPort_))\\\n",
    "\n",
    "write_to_parquet(arrival_port_table,\"arrival_port_table.parquet\")"
   ]
  },
  {
   "cell_type": "code",
   "execution_count": 20,
   "id": "962d9415",
   "metadata": {},
   "outputs": [
    {
     "name": "stdout",
     "output_type": "stream",
     "text": [
      "Shape ==> (98, 5)\n",
      "Schema ::\n",
      "root\n",
      " |-- arrivalPort: string (nullable = true)\n",
      " |-- numArrivalAddress: long (nullable = false)\n",
      " |-- arrivalPortId: long (nullable = false)\n",
      " |-- arrivalPort_: string (nullable = true)\n",
      " |-- stateCode: string (nullable = true)\n",
      "\n",
      "+-----------+-----------------+-------------+------------+---------+\n",
      "|arrivalPort|numArrivalAddress|arrivalPortId|arrivalPort_|stateCode|\n",
      "+-----------+-----------------+-------------+------------+---------+\n",
      "|        FMY|               33|            0|         FMY|       FL|\n",
      "|        BGM|                2|            1|         BGM|       ME|\n",
      "+-----------+-----------------+-------------+------------+---------+\n",
      "only showing top 2 rows\n",
      "\n"
     ]
    }
   ],
   "source": [
    "detail(arrival_port_table)"
   ]
  },
  {
   "cell_type": "code",
   "execution_count": 21,
   "id": "8b555c81",
   "metadata": {},
   "outputs": [],
   "source": [
    "# Status table creation\n",
    "status_table = df2.select(['arrivalFlag','departureFlag', 'updateFlag','matchFlag']) \\\n",
    "               .dropna() \\\n",
    "               .dropDuplicates() \\\n",
    "               .withColumn(\"statusFlagId\", monotonically_increasing_id()) \n",
    "write_to_parquet(status_table,\"status_table.parquet\")"
   ]
  },
  {
   "cell_type": "code",
   "execution_count": 22,
   "id": "bff9c206",
   "metadata": {},
   "outputs": [
    {
     "name": "stdout",
     "output_type": "stream",
     "text": [
      "Shape ==> (4, 5)\n",
      "Schema ::\n",
      "root\n",
      " |-- arrivalFlag: string (nullable = true)\n",
      " |-- departureFlag: string (nullable = true)\n",
      " |-- updateFlag: string (nullable = true)\n",
      " |-- matchFlag: string (nullable = true)\n",
      " |-- statusFlagId: long (nullable = false)\n",
      "\n",
      "+-----------+-------------+----------+---------+------------+\n",
      "|arrivalFlag|departureFlag|updateFlag|matchFlag|statusFlagId|\n",
      "+-----------+-------------+----------+---------+------------+\n",
      "|          T|            O|         U|        M|           0|\n",
      "|          G|            N|         U|        M|           1|\n",
      "+-----------+-------------+----------+---------+------------+\n",
      "only showing top 2 rows\n",
      "\n"
     ]
    }
   ],
   "source": [
    "detail(status_table)"
   ]
  },
  {
   "cell_type": "code",
   "execution_count": 23,
   "id": "56ee77c9",
   "metadata": {},
   "outputs": [
    {
     "name": "stdout",
     "output_type": "stream",
     "text": [
      "Shape ==> (55075, 12)\n",
      "Schema ::\n",
      "root\n",
      " |-- ident: string (nullable = true)\n",
      " |-- type: string (nullable = true)\n",
      " |-- name: string (nullable = true)\n",
      " |-- elevation_ft: string (nullable = true)\n",
      " |-- continent: string (nullable = true)\n",
      " |-- iso_country: string (nullable = true)\n",
      " |-- iso_region: string (nullable = true)\n",
      " |-- municipality: string (nullable = true)\n",
      " |-- gps_code: string (nullable = true)\n",
      " |-- iata_code: string (nullable = true)\n",
      " |-- local_code: string (nullable = true)\n",
      " |-- coordinates: string (nullable = true)\n",
      "\n",
      "+-----+-------------+--------------------+------------+---------+-----------+----------+------------+--------+---------+----------+--------------------+\n",
      "|ident|         type|                name|elevation_ft|continent|iso_country|iso_region|municipality|gps_code|iata_code|local_code|         coordinates|\n",
      "+-----+-------------+--------------------+------------+---------+-----------+----------+------------+--------+---------+----------+--------------------+\n",
      "|  00A|     heliport|   Total Rf Heliport|          11|       NA|         US|     US-PA|    Bensalem|     00A|     null|       00A|-74.9336013793945...|\n",
      "| 00AA|small_airport|Aero B Ranch Airport|        3435|       NA|         US|     US-KS|       Leoti|    00AA|     null|      00AA|-101.473911, 38.7...|\n",
      "+-----+-------------+--------------------+------------+---------+-----------+----------+------------+--------+---------+----------+--------------------+\n",
      "only showing top 2 rows\n",
      "\n"
     ]
    }
   ],
   "source": [
    "# Creating airport table\n",
    "airport = spark.read.format(\"csv\").option(\"header\", \"true\").option(\"delimiter\", \",\").load(airport_data)\n",
    "y = json_beautifier(airport)\n",
    "y.to_csv('airport_schema.csv')\n",
    "detail(airport)\n",
    "airport = airport.where(\\\n",
    "            (col(\"iso_country\") == \"US\")\\\n",
    "          & (col(\"iata_code\").isNotNull())\\\n",
    "          & (col(\"type\").isin(\"large_airport\", \"medium_airport\", \"small_airport\"))) \\\n",
    "            .withColumn(\"isoRegion\", substring(col(\"iso_region\"), 4, 2)) \\\n",
    "            .dropDuplicates()\n",
    "\n",
    "airport = airport\\\n",
    ".withColumn(\"lat\", split(col(\"coordinates\"), \",\").getItem(0))\\\n",
    ".withColumn(\"long\", split(col(\"coordinates\"), \",\").getItem(1))\n",
    "\n",
    "airport = airport\\\n",
    ".withColumn(\"lat\", col(\"lat\").cast(\"float\"))\\\n",
    ".withColumn(\"long\", col(\"long\").cast(\"float\"))\\\n",
    ".drop('local_code', 'elevation_ft', 'continent', 'coordinates')\n",
    "\n",
    "airport_table = airport.select(['ident', 'type', 'name', 'isoRegion', 'municipality',\n",
    "                                'gps_code', 'iata_code','iso_country', 'lat', 'long']) \\\n",
    "               .dropDuplicates().dropna()\n",
    "write_to_parquet(airport_table,\"airport_table.parquet\" )\n",
    "\n"
   ]
  },
  {
   "cell_type": "code",
   "execution_count": 24,
   "id": "d7fbfdf2",
   "metadata": {},
   "outputs": [
    {
     "name": "stdout",
     "output_type": "stream",
     "text": [
      "Shape ==> (1865, 11)\n",
      "Schema ::\n",
      "root\n",
      " |-- ident: string (nullable = true)\n",
      " |-- type: string (nullable = true)\n",
      " |-- name: string (nullable = true)\n",
      " |-- iso_country: string (nullable = true)\n",
      " |-- iso_region: string (nullable = true)\n",
      " |-- municipality: string (nullable = true)\n",
      " |-- gps_code: string (nullable = true)\n",
      " |-- iata_code: string (nullable = true)\n",
      " |-- isoRegion: string (nullable = true)\n",
      " |-- lat: float (nullable = true)\n",
      " |-- long: float (nullable = true)\n",
      "\n",
      "+-----+--------------+--------------------+-----------+----------+--------------------+--------+---------+---------+--------+-------+\n",
      "|ident|          type|                name|iso_country|iso_region|        municipality|gps_code|iata_code|isoRegion|     lat|   long|\n",
      "+-----+--------------+--------------------+-----------+----------+--------------------+--------+---------+---------+--------+-------+\n",
      "| KBPT|medium_airport|Southeast Texas R...|         US|     US-TX|Beaumont/Port Arthur|    KBPT|      BPT|       TX|-94.0207|29.9508|\n",
      "| KMCI| large_airport|Kansas City Inter...|         US|     US-MO|         Kansas City|    KMCI|      MCI|       MO|-94.7139|39.2976|\n",
      "+-----+--------------+--------------------+-----------+----------+--------------------+--------+---------+---------+--------+-------+\n",
      "only showing top 2 rows\n",
      "\n"
     ]
    }
   ],
   "source": [
    "detail(airport)"
   ]
  },
  {
   "cell_type": "code",
   "execution_count": 25,
   "id": "5c3ca2da",
   "metadata": {},
   "outputs": [
    {
     "name": "stdout",
     "output_type": "stream",
     "text": [
      "Shape ==> (2891, 12)\n",
      "Schema ::\n",
      "root\n",
      " |-- City: string (nullable = true)\n",
      " |-- State: string (nullable = true)\n",
      " |-- Median Age: string (nullable = true)\n",
      " |-- Male Population: string (nullable = true)\n",
      " |-- Female Population: string (nullable = true)\n",
      " |-- Total Population: string (nullable = true)\n",
      " |-- Number of Veterans: string (nullable = true)\n",
      " |-- Foreign-born: string (nullable = true)\n",
      " |-- Average Household Size: string (nullable = true)\n",
      " |-- State Code: string (nullable = true)\n",
      " |-- Race: string (nullable = true)\n",
      " |-- Count: string (nullable = true)\n",
      "\n",
      "+-------------+-------------+----------+---------------+-----------------+----------------+------------------+------------+----------------------+----------+------------------+-----+\n",
      "|         City|        State|Median Age|Male Population|Female Population|Total Population|Number of Veterans|Foreign-born|Average Household Size|State Code|              Race|Count|\n",
      "+-------------+-------------+----------+---------------+-----------------+----------------+------------------+------------+----------------------+----------+------------------+-----+\n",
      "|Silver Spring|     Maryland|      33.8|          40601|            41862|           82463|              1562|       30908|                   2.6|        MD|Hispanic or Latino|25924|\n",
      "|       Quincy|Massachusetts|      41.0|          44129|            49500|           93629|              4147|       32935|                  2.39|        MA|             White|58723|\n",
      "+-------------+-------------+----------+---------------+-----------------+----------------+------------------+------------+----------------------+----------+------------------+-----+\n",
      "only showing top 2 rows\n",
      "\n"
     ]
    }
   ],
   "source": [
    "# Creating demographics table\n",
    "dem = spark.read.format(\"csv\").option(\"header\", \"true\").option(\"delimiter\", \";\").load(demographic_data)\n",
    "z= json_beautifier(dem)\n",
    "z.to_csv('dem.csv')\n",
    "detail(dem)\n",
    "dem_table = dem \\\n",
    ".groupBy(col(\"State Code\").alias(\"stateCode\"), col(\"State\").alias(\"state\")).agg(\n",
    "        round(mean('Median Age'), 2).alias(\"medianAge\"),\\\n",
    "        sum(\"Total Population\").alias(\"totalPopulation\"),\\\n",
    "        sum(\"Male Population\").alias(\"malePopulation\"), \\\n",
    "        sum(\"Female Population\").alias(\"femalePopulation\"),\\\n",
    "        sum(\"Number of Veterans\").alias(\"numberOfVeterans\"),\\\n",
    "        sum(\"Foreign-born\").alias(\"foreignBorn\"), \\\n",
    "        round(mean(\"Average Household Size\"),2).alias(\"averageHouseholdSize\")\n",
    ").dropna()\n",
    "write_to_parquet(dem_table,\"dem_table.parquet\" )\n"
   ]
  },
  {
   "cell_type": "code",
   "execution_count": 26,
   "id": "558135f7",
   "metadata": {},
   "outputs": [
    {
     "name": "stdout",
     "output_type": "stream",
     "text": [
      "Shape ==> (2891, 12)\n",
      "Schema ::\n",
      "root\n",
      " |-- City: string (nullable = true)\n",
      " |-- State: string (nullable = true)\n",
      " |-- Median Age: string (nullable = true)\n",
      " |-- Male Population: string (nullable = true)\n",
      " |-- Female Population: string (nullable = true)\n",
      " |-- Total Population: string (nullable = true)\n",
      " |-- Number of Veterans: string (nullable = true)\n",
      " |-- Foreign-born: string (nullable = true)\n",
      " |-- Average Household Size: string (nullable = true)\n",
      " |-- State Code: string (nullable = true)\n",
      " |-- Race: string (nullable = true)\n",
      " |-- Count: string (nullable = true)\n",
      "\n",
      "+-------------+-------------+----------+---------------+-----------------+----------------+------------------+------------+----------------------+----------+------------------+-----+\n",
      "|         City|        State|Median Age|Male Population|Female Population|Total Population|Number of Veterans|Foreign-born|Average Household Size|State Code|              Race|Count|\n",
      "+-------------+-------------+----------+---------------+-----------------+----------------+------------------+------------+----------------------+----------+------------------+-----+\n",
      "|Silver Spring|     Maryland|      33.8|          40601|            41862|           82463|              1562|       30908|                   2.6|        MD|Hispanic or Latino|25924|\n",
      "|       Quincy|Massachusetts|      41.0|          44129|            49500|           93629|              4147|       32935|                  2.39|        MA|             White|58723|\n",
      "+-------------+-------------+----------+---------------+-----------------+----------------+------------------+------------+----------------------+----------+------------------+-----+\n",
      "only showing top 2 rows\n",
      "\n"
     ]
    }
   ],
   "source": [
    "detail(dem)"
   ]
  },
  {
   "cell_type": "code",
   "execution_count": 27,
   "id": "bbe9cb65",
   "metadata": {},
   "outputs": [],
   "source": [
    "# Merging different tables\n",
    "small_table = df2.select(['cicid', 'arrivalDate','departureDate','mode','bornCountry', \n",
    "                          'visaId','visaType',\n",
    "                         'gender','arrivalPort', 'birthYear','matchFlag']) \\\n",
    "                .dropna() \\\n",
    "                .dropDuplicates(['cicid'])\n"
   ]
  },
  {
   "cell_type": "code",
   "execution_count": 28,
   "id": "3680f0eb",
   "metadata": {},
   "outputs": [
    {
     "name": "stdout",
     "output_type": "stream",
     "text": [
      "Shape ==> (71138, 11)\n",
      "Schema ::\n",
      "root\n",
      " |-- cicid: integer (nullable = true)\n",
      " |-- arrivalDate: date (nullable = true)\n",
      " |-- departureDate: date (nullable = true)\n",
      " |-- mode: integer (nullable = true)\n",
      " |-- bornCountry: integer (nullable = true)\n",
      " |-- visaId: integer (nullable = true)\n",
      " |-- visaType: string (nullable = true)\n",
      " |-- gender: string (nullable = true)\n",
      " |-- arrivalPort: string (nullable = true)\n",
      " |-- birthYear: integer (nullable = true)\n",
      " |-- matchFlag: string (nullable = true)\n",
      "\n",
      "+------+-----------+-------------+----+-----------+------+--------+------+-----------+---------+---------+\n",
      "| cicid|arrivalDate|departureDate|mode|bornCountry|visaId|visaType|gender|arrivalPort|birthYear|matchFlag|\n",
      "+------+-----------+-------------+----+-----------+------+--------+------+-----------+---------+---------+\n",
      "|459674| 2016-04-03|   2016-04-07|   1|        135|     2|      WT|     M|        ATL|     1955|        M|\n",
      "|459682| 2016-04-03|   2016-04-07|   1|        135|     1|      WB|     M|        ATL|     1976|        M|\n",
      "+------+-----------+-------------+----+-----------+------+--------+------+-----------+---------+---------+\n",
      "only showing top 2 rows\n",
      "\n"
     ]
    }
   ],
   "source": [
    "# merge with time, commenting the code to have arrivalDate as the column\n",
    "# small_table = small_table.withColumnRenamed(\"arrivalDate\", \"time\")  \n",
    "detail(small_table)"
   ]
  },
  {
   "cell_type": "code",
   "execution_count": 29,
   "id": "e1f004e0",
   "metadata": {},
   "outputs": [
    {
     "name": "stdout",
     "output_type": "stream",
     "text": [
      "Shape ==> (284552, 11)\n",
      "Schema ::\n",
      "root\n",
      " |-- cicid: integer (nullable = true)\n",
      " |-- arrivalDate: date (nullable = true)\n",
      " |-- departureDate: date (nullable = true)\n",
      " |-- mode: integer (nullable = true)\n",
      " |-- bornCountry: integer (nullable = true)\n",
      " |-- visaId: integer (nullable = true)\n",
      " |-- visaType: string (nullable = true)\n",
      " |-- gender: string (nullable = true)\n",
      " |-- arrivalPort: string (nullable = true)\n",
      " |-- birthYear: integer (nullable = true)\n",
      " |-- statusFlagId: long (nullable = false)\n",
      "\n",
      "+------+-----------+-------------+----+-----------+------+--------+------+-----------+---------+------------+\n",
      "| cicid|arrivalDate|departureDate|mode|bornCountry|visaId|visaType|gender|arrivalPort|birthYear|statusFlagId|\n",
      "+------+-----------+-------------+----+-----------+------+--------+------+-----------+---------+------------+\n",
      "|459674| 2016-04-03|   2016-04-07|   1|        135|     2|      WT|     M|        ATL|     1955|           3|\n",
      "|459674| 2016-04-03|   2016-04-07|   1|        135|     2|      WT|     M|        ATL|     1955|           2|\n",
      "+------+-----------+-------------+----+-----------+------+--------+------+-----------+---------+------------+\n",
      "only showing top 2 rows\n",
      "\n"
     ]
    }
   ],
   "source": [
    "# merge with status\n",
    "small_table = small_table.join(status_table.select(['statusFlagId', 'matchFlag']), (small_table.matchFlag == status_table.matchFlag) , how = 'inner') \\\n",
    "                       .drop('matchFlag') \\\n",
    "                       .dropna() \\\n",
    "                       .dropDuplicates() \n",
    "detail(small_table)"
   ]
  },
  {
   "cell_type": "code",
   "execution_count": 30,
   "id": "a16c7326",
   "metadata": {},
   "outputs": [
    {
     "name": "stdout",
     "output_type": "stream",
     "text": [
      "Shape ==> (249188, 12)\n",
      "Schema ::\n",
      "root\n",
      " |-- cicid: integer (nullable = true)\n",
      " |-- arrivalDate: date (nullable = true)\n",
      " |-- departureDate: date (nullable = true)\n",
      " |-- mode: integer (nullable = true)\n",
      " |-- visaId: integer (nullable = true)\n",
      " |-- visaType: string (nullable = true)\n",
      " |-- gender: string (nullable = true)\n",
      " |-- arrivalPort: string (nullable = true)\n",
      " |-- birthYear: integer (nullable = true)\n",
      " |-- statusFlagId: long (nullable = false)\n",
      " |-- countryId: integer (nullable = true)\n",
      " |-- countryName: string (nullable = true)\n",
      "\n",
      "+------+-----------+-------------+----+------+--------+------+-----------+---------+------------+---------+-----------+\n",
      "| cicid|arrivalDate|departureDate|mode|visaId|visaType|gender|arrivalPort|birthYear|statusFlagId|countryId|countryName|\n",
      "+------+-----------+-------------+----+------+--------+------+-----------+---------+------------+---------+-----------+\n",
      "|626141| 2016-04-04|   2016-04-10|   1|     2|      B2|     M|        NYC|     2010|           3|      101|    ALBANIA|\n",
      "|626141| 2016-04-04|   2016-04-10|   1|     2|      B2|     M|        NYC|     2010|           2|      101|    ALBANIA|\n",
      "+------+-----------+-------------+----+------+--------+------+-----------+---------+------------+---------+-----------+\n",
      "only showing top 2 rows\n",
      "\n"
     ]
    }
   ],
   "source": [
    "\n",
    "# merge with country\n",
    "small_table = small_table.join(country_table, (small_table.bornCountry == country_table.countryId) , how = 'inner') \\\n",
    "                         .dropna() \\\n",
    "                        .drop('bornCountry') \\\n",
    "                       .dropDuplicates()\n",
    "detail(small_table)"
   ]
  },
  {
   "cell_type": "code",
   "execution_count": 31,
   "id": "f21c95d5",
   "metadata": {},
   "outputs": [
    {
     "name": "stdout",
     "output_type": "stream",
     "text": [
      "Shape ==> (249188, 12)\n",
      "Schema ::\n",
      "root\n",
      " |-- cicid: integer (nullable = true)\n",
      " |-- arrivalDate: date (nullable = true)\n",
      " |-- departureDate: date (nullable = true)\n",
      " |-- mode: integer (nullable = true)\n",
      " |-- visaId: integer (nullable = true)\n",
      " |-- visaType: string (nullable = true)\n",
      " |-- gender: string (nullable = true)\n",
      " |-- arrivalPort: string (nullable = true)\n",
      " |-- statusFlagId: long (nullable = false)\n",
      " |-- countryId: integer (nullable = true)\n",
      " |-- countryName: string (nullable = true)\n",
      " |-- personId: long (nullable = false)\n",
      "\n",
      "+------+-----------+-------------+----+------+--------+------+-----------+------------+---------+-----------+--------+\n",
      "| cicid|arrivalDate|departureDate|mode|visaId|visaType|gender|arrivalPort|statusFlagId|countryId|countryName|personId|\n",
      "+------+-----------+-------------+----+------+--------+------+-----------+------------+---------+-----------+--------+\n",
      "|626141| 2016-04-04|   2016-04-10|   1|     2|      B2|     M|        NYC|           3|      101|    ALBANIA|     104|\n",
      "|626141| 2016-04-04|   2016-04-10|   1|     2|      B2|     M|        NYC|           2|      101|    ALBANIA|     104|\n",
      "+------+-----------+-------------+----+------+--------+------+-----------+------------+---------+-----------+--------+\n",
      "only showing top 2 rows\n",
      "\n"
     ]
    }
   ],
   "source": [
    "\n",
    "# merge with person\n",
    "small_table = small_table.join(person_table.select(['personId', 'person_gender', 'birthYear']),\n",
    "                               ((small_table.gender == person_table.person_gender) & \\\n",
    "                               (small_table.birthYear == person_table.birthYear)),\\\n",
    "                               how = 'inner') \\\n",
    "                      .drop('person_gender','birthYear') \\\n",
    "                      .dropna() \\\n",
    "                      .dropDuplicates()\n",
    "detail(small_table)"
   ]
  },
  {
   "cell_type": "code",
   "execution_count": 32,
   "id": "b13d2dba",
   "metadata": {},
   "outputs": [
    {
     "name": "stdout",
     "output_type": "stream",
     "text": [
      "Shape ==> (249188, 12)\n",
      "Schema ::\n",
      "root\n",
      " |-- cicid: integer (nullable = true)\n",
      " |-- arrivalDate: date (nullable = true)\n",
      " |-- departureDate: date (nullable = true)\n",
      " |-- mode: integer (nullable = true)\n",
      " |-- visaId: integer (nullable = true)\n",
      " |-- visaType: string (nullable = true)\n",
      " |-- gender: string (nullable = true)\n",
      " |-- arrivalPort: string (nullable = true)\n",
      " |-- statusFlagId: long (nullable = false)\n",
      " |-- countryId: integer (nullable = true)\n",
      " |-- countryName: string (nullable = true)\n",
      " |-- personId: long (nullable = false)\n",
      "\n",
      "+------+-----------+-------------+----+------+--------+------+-----------+------------+---------+-----------+--------+\n",
      "| cicid|arrivalDate|departureDate|mode|visaId|visaType|gender|arrivalPort|statusFlagId|countryId|countryName|personId|\n",
      "+------+-----------+-------------+----+------+--------+------+-----------+------------+---------+-----------+--------+\n",
      "|626141| 2016-04-04|   2016-04-10|   1|     2|      B2|     M|        NYC|           3|      101|    ALBANIA|     104|\n",
      "|626141| 2016-04-04|   2016-04-10|   1|     2|      B2|     M|        NYC|           2|      101|    ALBANIA|     104|\n",
      "+------+-----------+-------------+----+------+--------+------+-----------+------------+---------+-----------+--------+\n",
      "only showing top 2 rows\n",
      "\n"
     ]
    }
   ],
   "source": [
    "detail(small_table)"
   ]
  },
  {
   "cell_type": "code",
   "execution_count": 33,
   "id": "9f499db7",
   "metadata": {},
   "outputs": [
    {
     "name": "stdout",
     "output_type": "stream",
     "text": [
      "+------+-----------+-------------+----+------+--------+------+-----------+------------+---------+-----------+--------+-------------+---------+\n",
      "| cicid|arrivalDate|departureDate|mode|visaId|visaType|gender|arrivalPort|statusFlagId|countryId|countryName|personId|arrivalPortId|stateCode|\n",
      "+------+-----------+-------------+----+------+--------+------+-----------+------------+---------+-----------+--------+-------------+---------+\n",
      "|637761| 2016-04-04|   2016-04-10|   1|     2|      WT|     F|        AGA|           3|      111|     FRANCE|     105|           10|       GU|\n",
      "|637761| 2016-04-04|   2016-04-10|   1|     2|      WT|     F|        AGA|           2|      111|     FRANCE|     105|           10|       GU|\n",
      "+------+-----------+-------------+----+------+--------+------+-----------+------------+---------+-----------+--------+-------------+---------+\n",
      "only showing top 2 rows\n",
      "\n",
      "Shape ==> (240564, 14)\n",
      "Schema ::\n",
      "root\n",
      " |-- cicid: integer (nullable = true)\n",
      " |-- arrivalDate: date (nullable = true)\n",
      " |-- departureDate: date (nullable = true)\n",
      " |-- mode: integer (nullable = true)\n",
      " |-- visaId: integer (nullable = true)\n",
      " |-- visaType: string (nullable = true)\n",
      " |-- gender: string (nullable = true)\n",
      " |-- arrivalPort: string (nullable = true)\n",
      " |-- statusFlagId: long (nullable = false)\n",
      " |-- countryId: integer (nullable = true)\n",
      " |-- countryName: string (nullable = true)\n",
      " |-- personId: long (nullable = false)\n",
      " |-- arrivalPortId: long (nullable = false)\n",
      " |-- stateCode: string (nullable = true)\n",
      "\n",
      "+------+-----------+-------------+----+------+--------+------+-----------+------------+---------+-----------+--------+-------------+---------+\n",
      "| cicid|arrivalDate|departureDate|mode|visaId|visaType|gender|arrivalPort|statusFlagId|countryId|countryName|personId|arrivalPortId|stateCode|\n",
      "+------+-----------+-------------+----+------+--------+------+-----------+------------+---------+-----------+--------+-------------+---------+\n",
      "|637761| 2016-04-04|   2016-04-10|   1|     2|      WT|     F|        AGA|           3|      111|     FRANCE|     105|           10|       GU|\n",
      "|637761| 2016-04-04|   2016-04-10|   1|     2|      WT|     F|        AGA|           2|      111|     FRANCE|     105|           10|       GU|\n",
      "+------+-----------+-------------+----+------+--------+------+-----------+------------+---------+-----------+--------+-------------+---------+\n",
      "only showing top 2 rows\n",
      "\n"
     ]
    }
   ],
   "source": [
    "# merge with arrival\n",
    "small_table = small_table.join(arrival_port_table.select(['arrivalPortId', 'arrivalPort_', 'stateCode']),  \\\n",
    "                              (small_table.arrivalPort == arrival_port_table.arrivalPort_) , how = 'inner') \\\n",
    "                       .drop('arrivalPort_')\\\n",
    "                       .dropna()\\\n",
    "                       .dropDuplicates()\n",
    "small_table.show(2)\n",
    "detail(small_table)"
   ]
  },
  {
   "cell_type": "code",
   "execution_count": 34,
   "id": "c6b970a3",
   "metadata": {},
   "outputs": [],
   "source": [
    "# merge airport data\n",
    "small_table = small_table.join(airport.select(['ident', 'iata_code', 'name']),\\\n",
    "                               (small_table.arrivalPort == airport.iata_code),\\\n",
    "                               how = 'inner')\\\n",
    "                         .drop('iata_code') \\\n",
    "                         .dropna() \\\n",
    "                         .dropDuplicates()\\\n",
    "                         .withColumnRenamed(\"name\", \"airportName\")\n",
    "\n",
    "# merge demographics data\n",
    "small_table = small_table.join(dem.select(['State Code', 'State']),\\\n",
    "                               (small_table.stateCode == dem['State Code']),\\\n",
    "                               how = 'inner')\\\n",
    "                         .drop('stateCode') \\\n",
    "                         .dropna() \\\n",
    "                         .dropDuplicates()\n"
   ]
  },
  {
   "cell_type": "code",
   "execution_count": 35,
   "id": "bb50e177",
   "metadata": {},
   "outputs": [
    {
     "name": "stdout",
     "output_type": "stream",
     "text": [
      "Shape ==> (100612, 17)\n",
      "Schema ::\n",
      "root\n",
      " |-- cicid: integer (nullable = true)\n",
      " |-- arrivalDate: date (nullable = true)\n",
      " |-- departureDate: date (nullable = true)\n",
      " |-- mode: integer (nullable = true)\n",
      " |-- visaId: integer (nullable = true)\n",
      " |-- visaType: string (nullable = true)\n",
      " |-- gender: string (nullable = true)\n",
      " |-- arrivalPort: string (nullable = true)\n",
      " |-- statusFlagId: long (nullable = false)\n",
      " |-- countryId: integer (nullable = true)\n",
      " |-- countryName: string (nullable = true)\n",
      " |-- personId: long (nullable = false)\n",
      " |-- arrivalPortId: long (nullable = false)\n",
      " |-- ident: string (nullable = true)\n",
      " |-- airportName: string (nullable = true)\n",
      " |-- State Code: string (nullable = true)\n",
      " |-- State: string (nullable = true)\n",
      "\n",
      "+------+-----------+-------------+----+------+--------+------+-----------+------------+---------+-----------+--------+-------------+-----+--------------------+----------+-----+\n",
      "| cicid|arrivalDate|departureDate|mode|visaId|visaType|gender|arrivalPort|statusFlagId|countryId|countryName|personId|arrivalPortId|ident|         airportName|State Code|State|\n",
      "+------+-----------+-------------+----+------+--------+------+-----------+------------+---------+-----------+--------+-------------+-----+--------------------+----------+-----+\n",
      "|630649| 2016-04-04|   2016-04-06|   1|     1|      WB|     F|        AUS|           3|      111|     FRANCE|     167|           24| KAUS|Austin Bergstrom ...|        TX|Texas|\n",
      "|630649| 2016-04-04|   2016-04-06|   1|     1|      WB|     F|        AUS|           2|      111|     FRANCE|     167|           24| KAUS|Austin Bergstrom ...|        TX|Texas|\n",
      "+------+-----------+-------------+----+------+--------+------+-----------+------------+---------+-----------+--------+-------------+-----+--------------------+----------+-----+\n",
      "only showing top 2 rows\n",
      "\n"
     ]
    }
   ],
   "source": [
    "detail(small_table)"
   ]
  },
  {
   "cell_type": "code",
   "execution_count": 36,
   "id": "f6fff800",
   "metadata": {},
   "outputs": [],
   "source": [
    "list_of_tables = [country_table, time_table, arrival_port_table, person_table, status_table, airport, dem, small_table]\n",
    "labels = ['country', 'time','arrival', 'person', 'status', 'airport', 'dem', 'fact']"
   ]
  },
  {
   "cell_type": "code",
   "execution_count": 37,
   "id": "10b56b66",
   "metadata": {},
   "outputs": [],
   "source": [
    "for table, label in zip(list_of_tables, labels):\n",
    "    f = json_beautifier(table)\n",
    "    f.to_csv('{}_schema.csv'.format(label))"
   ]
  },
  {
   "cell_type": "code",
   "execution_count": null,
   "id": "55b1d089",
   "metadata": {},
   "outputs": [],
   "source": []
  },
  {
   "cell_type": "code",
   "execution_count": null,
   "id": "8f6616da",
   "metadata": {},
   "outputs": [],
   "source": []
  }
 ],
 "metadata": {
  "kernelspec": {
   "display_name": "Python 3 (ipykernel)",
   "language": "python",
   "name": "python3"
  },
  "language_info": {
   "codemirror_mode": {
    "name": "ipython",
    "version": 3
   },
   "file_extension": ".py",
   "mimetype": "text/x-python",
   "name": "python",
   "nbconvert_exporter": "python",
   "pygments_lexer": "ipython3",
   "version": "3.9.10"
  }
 },
 "nbformat": 4,
 "nbformat_minor": 5
}
