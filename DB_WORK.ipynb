{
 "cells": [
  {
   "cell_type": "code",
   "execution_count": 96,
   "metadata": {},
   "outputs": [],
   "source": [
    "import pandas as pd \n",
    "import os\n",
    "import psycopg2\n",
    "import numpy as np\n",
    "\n",
    "pd.options.mode.chained_assignment = None "
   ]
  },
  {
   "cell_type": "code",
   "execution_count": 97,
   "metadata": {},
   "outputs": [],
   "source": [
    "# utility methods\n",
    "def get_db_list(cur):\n",
    "    cur.execute(\"SELECT datname from pg_database;\")\n",
    "    return cur.fetchall()\n",
    "\n",
    "\n",
    "def con_check(cur, my_db):\n",
    "    cur.execute(\"SELECT * FROM pg_stat_activity WHERE datname = '{}';\".format(my_db))\n",
    "    return cur.fetchall()\n",
    "\n",
    "\n",
    "def show_current_db(cur):\n",
    "    cur.execute(\"SELECT current_database()\")\n",
    "    return cur.fetchall()\n",
    "\n",
    "\n",
    "def schema_list(cur, schema):\n",
    "    cur.execute('''\n",
    "          SELECT EXISTS(SELECT 1 FROM information_schema.schemata \n",
    "            WHERE schema_name = '{}');\n",
    "            '''.format(schema))\n",
    "    return cur.fetchall()\n",
    "\n",
    "def show(df):\n",
    "    print(df.head(), df.shape)\n",
    "\n",
    "prompt_create = '''CREATE TABLE IF NOT EXISTS {}.{} '''\n",
    "prompt_delete = '''DROP TABLE IF EXISTS {}.{} ;'''\n",
    "prompt_insert = '''INSERT INTO {}.{} '''\n"
   ]
  },
  {
   "cell_type": "code",
   "execution_count": 98,
   "metadata": {},
   "outputs": [
    {
     "name": "stdout",
     "output_type": "stream",
     "text": [
      "[]\n",
      "DB created successfully\n"
     ]
    }
   ],
   "source": [
    "DB = 'student'\n",
    "conn_string = \"host=0.0.0.0 dbname={} user={} password={}\"\n",
    "\n",
    "conn = psycopg2.connect(conn_string.format(DB + 'db', DB, DB))\n",
    "conn.set_session(autocommit=True)\n",
    "cur = conn.cursor()\n",
    "\n",
    "my_db = 'etldb'\n",
    "print(con_check(cur, my_db))\n",
    "cur.execute(\"DROP DATABASE IF EXISTS {}\".format(my_db))\n",
    "cur.execute(\"CREATE DATABASE {} WITH ENCODING 'utf8' TEMPLATE template0 CONNECTION LIMIT 3\".format(my_db))\n",
    "conn.close()\n",
    "\n",
    "schema = 'work'\n",
    "conn = psycopg2.connect(conn_string.format(my_db, DB, DB))\n",
    "conn.set_session(autocommit=True)\n",
    "cur = conn.cursor()\n",
    "cur.execute(\"CREATE SCHEMA IF NOT EXISTS {};\".format(schema))\n",
    "cur.execute(\"SET search_path = work, public;\")\n",
    "print(\"DB created successfully\")"
   ]
  },
  {
   "cell_type": "code",
   "execution_count": 99,
   "metadata": {},
   "outputs": [],
   "source": [
    "# File locations to read data \n",
    "data_dir = os.path.join(os.getcwd(), 'data')\n",
    "sas_path = os.path.join(data_dir, 'sas_data')\n",
    "airport_mismatch_path = os.path.join(data_dir, r'mismatch.csv')\n",
    "country_detail_path = os.path.join(data_dir, r'country_details.csv')\n",
    "airport_data = os.path.join(data_dir, 'airport-codes_csv.csv')\n",
    "arrival_port_map = os.path.join(data_dir, 'arrival_port_map.csv')\n",
    "demographic_data = os.path.join(data_dir, 'us-cities-demographics.csv')\n",
    "sas_data = [os.path.join(sas_path, x) for x in os.listdir(sas_path) if x.startswith('part')]"
   ]
  },
  {
   "cell_type": "code",
   "execution_count": 100,
   "metadata": {},
   "outputs": [],
   "source": [
    "table_name = \"fact_table\"\n",
    "sql = prompt_create.format(schema, table_name) + ''' (\n",
    "            cicid int primary key,\n",
    "            personId int,\n",
    "            statusFlagId int,\n",
    "            ident text,\n",
    "            visaId int,\n",
    "            arrivalDate timestamp,\n",
    "            arrivalPortId int,\n",
    "            countryId int,\n",
    "            arrivalPort text,\n",
    "            state_code text,\n",
    "            departureDate timestamp,\n",
    "            mode text,\n",
    "            visatype text,\n",
    "            gender text,\n",
    "            state text,\n",
    "            countryName text,\n",
    "            airportName text\n",
    "        )\n",
    "        '''\n",
    "cur.execute(sql)"
   ]
  },
  {
   "cell_type": "code",
   "execution_count": 101,
   "metadata": {},
   "outputs": [],
   "source": [
    "table_name = \"dim_person\"\n",
    "sql = prompt_create.format(schema, table_name) + ''' (\n",
    "        personId text primary key,\n",
    "        birthYear int,\n",
    "        gender text\n",
    "    )\n",
    "'''\n",
    "cur.execute(sql)\n",
    "\n",
    "table_name = \"dim_status\"\n",
    "sql = prompt_create.format(schema, table_name) + ''' (\n",
    "    statusFlagId int primary key,     \n",
    "    arrivalFlag text,\n",
    "    departureFlag text,\n",
    "    updateFlag text,\n",
    "    matchFlag text\n",
    " )'''\n",
    "cur.execute(sql)\n",
    "\n",
    "table_name = \"dim_country\"\n",
    "sql = prompt_create.format(schema, table_name) + '''(\n",
    "    countryId int,\n",
    "    countryName text\n",
    ")'''\n",
    "\n",
    "cur.execute(sql)"
   ]
  },
  {
   "cell_type": "code",
   "execution_count": 102,
   "metadata": {},
   "outputs": [],
   "source": [
    "table_name = \"dim_us_state\"\n",
    "sql = prompt_create.format(schema, table_name) + ''' (\n",
    "        state_code text primary key,\n",
    "        state text,\n",
    "        median_age float,\n",
    "        male_pop float,\n",
    "        female_pop float, \n",
    "        total_pop float,\n",
    "        vet_no float,\n",
    "        foreign_born float,\n",
    "        avg_house_size float\n",
    ")'''\n",
    "cur.execute(sql)"
   ]
  },
  {
   "cell_type": "code",
   "execution_count": 103,
   "metadata": {},
   "outputs": [],
   "source": [
    "table_name = \"dim_airport\"\n",
    "sql = prompt_create.format(schema, table_name) + ''' (\n",
    "    ident text primary key,\n",
    "    type  text,\n",
    "    iata_code text,\n",
    "    name text,\n",
    "    iso_country text,\n",
    "    iso_region text,\n",
    "    municipality text,\n",
    "    gps_code text,\n",
    "    lat float,\n",
    "    long float)\n",
    "'''\n",
    "cur.execute(sql)"
   ]
  },
  {
   "cell_type": "code",
   "execution_count": 104,
   "metadata": {},
   "outputs": [],
   "source": [
    "table_name = \"dim_arrival\"\n",
    "sql = prompt_create.format(schema, table_name) + ''' (\n",
    "        arrivalPortId int primary key,\n",
    "        arrival_port text,\n",
    "        num_arrivals int,\n",
    "        state_code text\n",
    "        )'''\n",
    "cur.execute(sql)\n",
    "\n",
    "table_name = \"dim_time\"\n",
    "sql = prompt_create.format(schema, table_name) + ''' (\n",
    "    arrivalDate timestamp primary key,\n",
    "    year int,\n",
    "    month int,\n",
    "    day int,\n",
    "    week int,\n",
    "    weekday text)'''\n",
    "cur.execute(sql)"
   ]
  },
  {
   "cell_type": "code",
   "execution_count": 105,
   "metadata": {
    "scrolled": true
   },
   "outputs": [
    {
     "name": "stdout",
     "output_type": "stream",
     "text": [
      "Successfully inserted data in dim_us_state table\n"
     ]
    }
   ],
   "source": [
    "# creating the demographic data\n",
    "demographic_df = pd.read_csv(demographic_data, sep=';')\n",
    "demographic_df.head(3)\n",
    "\n",
    "insert_into_us_state = '''\n",
    "INSERT INTO {}.{}\n",
    "({})                   \n",
    "VALUES (%s, %s, %s, %s, %s, %s, %s, %s, %s)\n",
    "'''\n",
    "\n",
    "dem = demographic_df.drop(['Race', 'Count', 'City'], axis=1).drop_duplicates()\n",
    "renaming_dict = {\n",
    "    'State': 'state',\n",
    "    'Median Age': 'median_age',\n",
    "    'Male Population': 'male_pop',\n",
    "    'Female Population': 'female_pop',\n",
    "    'Total Population': 'total_pop',\n",
    "    'Number of Veterans': 'vet_no',\n",
    "    'Foreign-born': 'foreign_born',\n",
    "    'Average Household Size': 'avg_house_size',\n",
    "    'State Code': 'state_code'\n",
    "}\n",
    "# inserting the data in dim_us_state\n",
    "\n",
    "dem = dem.rename(columns=renaming_dict)\n",
    "cols = dem.columns.difference(['state', 'state_code'])\n",
    "funcs = {x: np.sum for x in cols}\n",
    "funcs['avg_house_size'], funcs['median_age'] = np.mean, np.median\n",
    "dem = dem.groupby(['state', 'state_code'], as_index=False).agg(funcs)\n",
    "\n",
    "\n",
    "cols = dem.columns.tolist()\n",
    "insert_statement = insert_into_us_state.format(schema, 'dim_us_state', ','.join(cols))\n",
    "\n",
    "for indx, row in dem.iterrows():\n",
    "    cur.execute(insert_statement, row)\n",
    "print(\"Successfully inserted data in dim_us_state table\")"
   ]
  },
  {
   "cell_type": "code",
   "execution_count": 106,
   "metadata": {},
   "outputs": [
    {
     "data": {
      "text/html": [
       "<div>\n",
       "<style scoped>\n",
       "    .dataframe tbody tr th:only-of-type {\n",
       "        vertical-align: middle;\n",
       "    }\n",
       "\n",
       "    .dataframe tbody tr th {\n",
       "        vertical-align: top;\n",
       "    }\n",
       "\n",
       "    .dataframe thead th {\n",
       "        text-align: right;\n",
       "    }\n",
       "</style>\n",
       "<table border=\"1\" class=\"dataframe\">\n",
       "  <thead>\n",
       "    <tr style=\"text-align: right;\">\n",
       "      <th></th>\n",
       "      <th>0</th>\n",
       "    </tr>\n",
       "  </thead>\n",
       "  <tbody>\n",
       "    <tr>\n",
       "      <th>state</th>\n",
       "      <td>Alabama</td>\n",
       "    </tr>\n",
       "    <tr>\n",
       "      <th>state_code</th>\n",
       "      <td>AL</td>\n",
       "    </tr>\n",
       "    <tr>\n",
       "      <th>avg_house_size</th>\n",
       "      <td>2.434286</td>\n",
       "    </tr>\n",
       "    <tr>\n",
       "      <th>female_pop</th>\n",
       "      <td>552381.0</td>\n",
       "    </tr>\n",
       "    <tr>\n",
       "      <th>foreign_born</th>\n",
       "      <td>52154.0</td>\n",
       "    </tr>\n",
       "    <tr>\n",
       "      <th>male_pop</th>\n",
       "      <td>497248.0</td>\n",
       "    </tr>\n",
       "    <tr>\n",
       "      <th>median_age</th>\n",
       "      <td>38.0</td>\n",
       "    </tr>\n",
       "    <tr>\n",
       "      <th>total_pop</th>\n",
       "      <td>1049629</td>\n",
       "    </tr>\n",
       "    <tr>\n",
       "      <th>vet_no</th>\n",
       "      <td>71543.0</td>\n",
       "    </tr>\n",
       "  </tbody>\n",
       "</table>\n",
       "</div>"
      ],
      "text/plain": [
       "                       0\n",
       "state            Alabama\n",
       "state_code            AL\n",
       "avg_house_size  2.434286\n",
       "female_pop      552381.0\n",
       "foreign_born     52154.0\n",
       "male_pop        497248.0\n",
       "median_age          38.0\n",
       "total_pop        1049629\n",
       "vet_no           71543.0"
      ]
     },
     "execution_count": 106,
     "metadata": {},
     "output_type": "execute_result"
    }
   ],
   "source": [
    "dem.head(1).T"
   ]
  },
  {
   "cell_type": "code",
   "execution_count": 107,
   "metadata": {},
   "outputs": [
    {
     "name": "stdout",
     "output_type": "stream",
     "text": [
      "(220160, 28)\n"
     ]
    }
   ],
   "source": [
    "immigration_df = pd.read_parquet(sas_data[0])\n",
    "cols = sorted(immigration_df.columns)\n",
    "print(immigration_df.shape)"
   ]
  },
  {
   "cell_type": "code",
   "execution_count": 108,
   "metadata": {},
   "outputs": [],
   "source": [
    "# shaping the immigration data for further use\n",
    "renaming_dict = {\n",
    "    \"i94yr\": \"year\",\n",
    "    \"i94mon\": \"month\",\n",
    "    \"i94cit\": \"bornCountry\",\n",
    "    \"i94res\": \"residentCountry\",\n",
    "    \"i94port\": \"arrivalPort\",\n",
    "    \"i94mode\": \"mode\",\n",
    "    \"i94addr\": \"arrivalAddress\",\n",
    "    \"i94bir\": \"age\",\n",
    "    \"i94visa\": \"visaId\",\n",
    "    \"entdepa\": \"arrivalFlag\",\n",
    "    \"entdepd\": \"departureFlag\",\n",
    "    \"entdepu\": \"updateFlag\",\n",
    "    \"matflag\": \"matchFlag\",\n",
    "    \"biryear\": \"birthYear\",\n",
    "    \"fltno\": \"flightNumber\", \n",
    "    \"visatype\": \"visaType\"\n",
    "}\n",
    "# rename\n",
    "imm_df = immigration_df.rename(columns=renaming_dict).iloc[:300]\n",
    "\n",
    "#cast\n",
    "casting_cols = [\"cicid\",\"year\", \"month\", \"bornCountry\", \"residentCountry\", \"mode\", \n",
    "                \"age\",\"visaId\",\"birthYear\", \"arrdate\", \"depdate\"]\n",
    "imm_df = imm_df.dropna(subset=casting_cols)\n",
    "imm_df[casting_cols] = imm_df[casting_cols].astype(int)\n",
    "date_mapper = lambda x: pd.DateOffset(days=x) + pd.Timestamp('1960-01-01')\n",
    "imm_df[\"arrivalDate\"] = imm_df['arrdate'].map(date_mapper)\n",
    "imm_df[\"departureDate\"] = imm_df[\"depdate\"].map(date_mapper)\n",
    "imm_df[\"flight_no\"] = imm_df.apply(lambda row: row['airline'] + str(int(row['flightNumber'])), axis=1)\n",
    "\n",
    "#drop\n",
    "drop_cols = [\"arrdate\", \"depdate\", \"count\", \"admnum\", \"dtadfile\", \"visapost\", \"occup\", \"dtaddto\", \"insnum\"]\n",
    "imm_df = imm_df.drop(drop_cols, axis=1)"
   ]
  },
  {
   "cell_type": "code",
   "execution_count": 109,
   "metadata": {},
   "outputs": [],
   "source": [
    "im = imm_df[['flight_no','arrivalPort']].drop_duplicates().sort_values(by=['flight_no', 'arrivalPort'])"
   ]
  },
  {
   "cell_type": "code",
   "execution_count": 110,
   "metadata": {},
   "outputs": [
    {
     "name": "stdout",
     "output_type": "stream",
     "text": [
      "Successfully inserted data into airport table\n"
     ]
    },
    {
     "data": {
      "text/html": [
       "<div>\n",
       "<style scoped>\n",
       "    .dataframe tbody tr th:only-of-type {\n",
       "        vertical-align: middle;\n",
       "    }\n",
       "\n",
       "    .dataframe tbody tr th {\n",
       "        vertical-align: top;\n",
       "    }\n",
       "\n",
       "    .dataframe thead th {\n",
       "        text-align: right;\n",
       "    }\n",
       "</style>\n",
       "<table border=\"1\" class=\"dataframe\">\n",
       "  <thead>\n",
       "    <tr style=\"text-align: right;\">\n",
       "      <th></th>\n",
       "      <th>ident</th>\n",
       "      <th>type</th>\n",
       "      <th>name</th>\n",
       "      <th>iso_country</th>\n",
       "      <th>iso_region</th>\n",
       "      <th>municipality</th>\n",
       "      <th>gps_code</th>\n",
       "      <th>iata_code</th>\n",
       "      <th>lat</th>\n",
       "      <th>long</th>\n",
       "    </tr>\n",
       "  </thead>\n",
       "  <tbody>\n",
       "    <tr>\n",
       "      <th>28131</th>\n",
       "      <td>KMSP</td>\n",
       "      <td>large_airport</td>\n",
       "      <td>Minneapolis-St Paul International/Wold-Chamber...</td>\n",
       "      <td>US</td>\n",
       "      <td>MN</td>\n",
       "      <td>Minneapolis</td>\n",
       "      <td>KMSP</td>\n",
       "      <td>MSP</td>\n",
       "      <td>-93.221802</td>\n",
       "      <td>44.882</td>\n",
       "    </tr>\n",
       "  </tbody>\n",
       "</table>\n",
       "</div>"
      ],
      "text/plain": [
       "      ident           type                                               name  \\\n",
       "28131  KMSP  large_airport  Minneapolis-St Paul International/Wold-Chamber...   \n",
       "\n",
       "      iso_country iso_region municipality gps_code iata_code        lat  \\\n",
       "28131          US         MN  Minneapolis     KMSP       MSP -93.221802   \n",
       "\n",
       "         long  \n",
       "28131  44.882  "
      ]
     },
     "execution_count": 110,
     "metadata": {},
     "output_type": "execute_result"
    }
   ],
   "source": [
    "# creating the airport table\n",
    "airport_df = pd.read_csv(airport_data)\n",
    "m1 = airport_df['iso_country'] == 'US'\n",
    "m2 = ~pd.isnull(airport_df['iata_code'])\n",
    "m3 = airport_df[\"type\"].isin([\"large_airport\", \"medium_airport\", \"small_airport\"])\n",
    "air_df = airport_df.loc[(m1 & m2 & m3)]\n",
    "\n",
    "air_df['iso_region'] = air_df['iso_region'].str[3:] \n",
    "air_df['lat'] = air_df['coordinates'].str.split(',').str[0]\n",
    "air_df['long'] = air_df['coordinates'].str.split(',').str[1]\n",
    "\n",
    "air_df[['lat', 'long']] = air_df[['lat', 'long']].astype(float)\n",
    "\n",
    "\n",
    "drop_columns = ['local_code', 'elevation_ft', 'continent', 'coordinates']\n",
    "air_df = air_df.drop(drop_columns, axis=1).dropna().drop_duplicates()\n",
    "\n",
    "# inserting data in airport table\n",
    "cols = air_df.columns.tolist()\n",
    "\n",
    "insert_into_airport_table = '''\n",
    "INSERT INTO {}.{}\n",
    "({})                   \n",
    "VALUES (%s, %s, %s, %s, %s, %s, %s, %s, %s, %s)\n",
    "'''.format(schema, 'dim_airport', ','.join(cols))\n",
    "\n",
    "for indx, row in air_df.iterrows():\n",
    "    cur.execute(insert_into_airport_table, row)\n",
    "\n",
    "print(\"Successfully inserted data into airport table\")\n",
    "\n",
    "air_df[air_df['iata_code'] == 'MSP']"
   ]
  },
  {
   "cell_type": "code",
   "execution_count": 111,
   "metadata": {},
   "outputs": [
    {
     "data": {
      "text/html": [
       "<div>\n",
       "<style scoped>\n",
       "    .dataframe tbody tr th:only-of-type {\n",
       "        vertical-align: middle;\n",
       "    }\n",
       "\n",
       "    .dataframe tbody tr th {\n",
       "        vertical-align: top;\n",
       "    }\n",
       "\n",
       "    .dataframe thead th {\n",
       "        text-align: right;\n",
       "    }\n",
       "</style>\n",
       "<table border=\"1\" class=\"dataframe\">\n",
       "  <thead>\n",
       "    <tr style=\"text-align: right;\">\n",
       "      <th></th>\n",
       "      <th>440</th>\n",
       "    </tr>\n",
       "  </thead>\n",
       "  <tbody>\n",
       "    <tr>\n",
       "      <th>ident</th>\n",
       "      <td>07FA</td>\n",
       "    </tr>\n",
       "    <tr>\n",
       "      <th>type</th>\n",
       "      <td>small_airport</td>\n",
       "    </tr>\n",
       "    <tr>\n",
       "      <th>name</th>\n",
       "      <td>Ocean Reef Club Airport</td>\n",
       "    </tr>\n",
       "    <tr>\n",
       "      <th>iso_country</th>\n",
       "      <td>US</td>\n",
       "    </tr>\n",
       "    <tr>\n",
       "      <th>iso_region</th>\n",
       "      <td>FL</td>\n",
       "    </tr>\n",
       "    <tr>\n",
       "      <th>municipality</th>\n",
       "      <td>Key Largo</td>\n",
       "    </tr>\n",
       "    <tr>\n",
       "      <th>gps_code</th>\n",
       "      <td>07FA</td>\n",
       "    </tr>\n",
       "    <tr>\n",
       "      <th>iata_code</th>\n",
       "      <td>OCA</td>\n",
       "    </tr>\n",
       "    <tr>\n",
       "      <th>lat</th>\n",
       "      <td>-80.274803</td>\n",
       "    </tr>\n",
       "    <tr>\n",
       "      <th>long</th>\n",
       "      <td>25.325399</td>\n",
       "    </tr>\n",
       "  </tbody>\n",
       "</table>\n",
       "</div>"
      ],
      "text/plain": [
       "                                  440\n",
       "ident                            07FA\n",
       "type                    small_airport\n",
       "name          Ocean Reef Club Airport\n",
       "iso_country                        US\n",
       "iso_region                         FL\n",
       "municipality                Key Largo\n",
       "gps_code                         07FA\n",
       "iata_code                         OCA\n",
       "lat                        -80.274803\n",
       "long                        25.325399"
      ]
     },
     "execution_count": 111,
     "metadata": {},
     "output_type": "execute_result"
    }
   ],
   "source": [
    "air_df.head(1).T"
   ]
  },
  {
   "cell_type": "code",
   "execution_count": 112,
   "metadata": {
    "scrolled": true
   },
   "outputs": [
    {
     "name": "stdout",
     "output_type": "stream",
     "text": [
      "  flight_no arrivalPort ident iata_code                  airportName\n",
      "0    AA1250         MIA  KMIA       MIA  Miami International Airport\n",
      "1    AA1322         MIA  KMIA       MIA  Miami International Airport\n",
      "2    AA1481         MIA  KMIA       MIA  Miami International Airport\n",
      "3    AA1502         MIA  KMIA       MIA  Miami International Airport\n",
      "4    AA1558         MIA  KMIA       MIA  Miami International Airport (88, 5)\n"
     ]
    }
   ],
   "source": [
    "# Join airport table to immigration table\n",
    "air_df_to_map = air_df.loc[:, ['ident', 'iata_code', 'name']].rename(columns={'name': 'airportName'})\n",
    "mask = im['arrivalPort'].isin(air_df_to_map['iata_code'].unique())\n",
    "im2_merged = im[mask]\n",
    "im2_unmerged = im[~mask]\n",
    "airport_mismatch_df = pd.read_csv(airport_mismatch_path, index_col=0).squeeze(\"columns\")\n",
    "im2_merged = im2_merged.merge(air_df_to_map, left_on='arrivalPort', right_on='iata_code')\n",
    "im2_unmerged.insert(loc=2, column='arrivalPort2', value=im2_unmerged['flight_no'].map(lambda c: airport_mismatch_df[c]).tolist())\n",
    "im2_unmerged = im2_unmerged.merge(air_df_to_map, left_on='arrivalPort2', right_on='iata_code').drop(['arrivalPort2'], axis=1)\n",
    "im2 = pd.concat([im2_merged, im2_unmerged], axis=0).dropna()\n",
    "show(im2)\n"
   ]
  },
  {
   "cell_type": "code",
   "execution_count": 113,
   "metadata": {},
   "outputs": [
    {
     "name": "stdout",
     "output_type": "stream",
     "text": [
      "Data cleaning complete, shape (185, 22)\n"
     ]
    }
   ],
   "source": [
    "# clean data\n",
    "m1 = imm_df['age'] >= 0\n",
    "m2 = ~imm_df['cicid'].isna()\n",
    "m3 = ~(imm_df['gender'].isna() | imm_df['birthYear'].isna())\n",
    "imm_df = imm_df.loc[m1 & m2 & m3].drop_duplicates(subset=['cicid'])\n",
    "print(\"Data cleaning complete, shape {}\".format(imm_df.shape))"
   ]
  },
  {
   "cell_type": "code",
   "execution_count": 114,
   "metadata": {},
   "outputs": [
    {
     "name": "stdout",
     "output_type": "stream",
     "text": [
      "Successfully inserted data into time table\n"
     ]
    }
   ],
   "source": [
    "# creating the time table\n",
    "time_table = imm_df.loc[:, ['arrivalDate']]\n",
    "def transform(row):\n",
    "    t = pd.Timestamp(row['arrivalDate'], unit='ms')\n",
    "    row['arrivalDate'] = t\n",
    "    row['day'] = t.day\n",
    "    row['month'] = t.month\n",
    "    row['year'] = t.year\n",
    "    row['week'] = t.weekofyear\n",
    "    row['weekday'] = t.day_name()\n",
    "    return row\n",
    "time_table = time_table.apply(transform, axis=1)\n",
    "\n",
    "\n",
    "# insert the data in time table\n",
    "cols = time_table.columns.tolist()\n",
    "insert_into_time_table = '''\n",
    "INSERT INTO {}.{}\n",
    "({})                   \n",
    "VALUES (%s, %s, %s, %s, %s, %s) ON CONFLICT(arrivalDate) DO NOTHING\n",
    "'''.format(schema, 'dim_time', ','.join(cols))\n",
    "\n",
    "for indx, row in time_table.iterrows():\n",
    "    cur.execute(insert_into_time_table, list(row))\n",
    "    \n",
    "print(\"Successfully inserted data into time table\")"
   ]
  },
  {
   "cell_type": "code",
   "execution_count": 115,
   "metadata": {},
   "outputs": [
    {
     "data": {
      "text/html": [
       "<div>\n",
       "<style scoped>\n",
       "    .dataframe tbody tr th:only-of-type {\n",
       "        vertical-align: middle;\n",
       "    }\n",
       "\n",
       "    .dataframe tbody tr th {\n",
       "        vertical-align: top;\n",
       "    }\n",
       "\n",
       "    .dataframe thead th {\n",
       "        text-align: right;\n",
       "    }\n",
       "</style>\n",
       "<table border=\"1\" class=\"dataframe\">\n",
       "  <thead>\n",
       "    <tr style=\"text-align: right;\">\n",
       "      <th></th>\n",
       "      <th>4</th>\n",
       "    </tr>\n",
       "  </thead>\n",
       "  <tbody>\n",
       "    <tr>\n",
       "      <th>arrivalDate</th>\n",
       "      <td>2016-04-08 00:00:00</td>\n",
       "    </tr>\n",
       "    <tr>\n",
       "      <th>day</th>\n",
       "      <td>8</td>\n",
       "    </tr>\n",
       "    <tr>\n",
       "      <th>month</th>\n",
       "      <td>4</td>\n",
       "    </tr>\n",
       "    <tr>\n",
       "      <th>year</th>\n",
       "      <td>2016</td>\n",
       "    </tr>\n",
       "    <tr>\n",
       "      <th>week</th>\n",
       "      <td>14</td>\n",
       "    </tr>\n",
       "    <tr>\n",
       "      <th>weekday</th>\n",
       "      <td>Friday</td>\n",
       "    </tr>\n",
       "  </tbody>\n",
       "</table>\n",
       "</div>"
      ],
      "text/plain": [
       "                               4\n",
       "arrivalDate  2016-04-08 00:00:00\n",
       "day                            8\n",
       "month                          4\n",
       "year                        2016\n",
       "week                          14\n",
       "weekday                   Friday"
      ]
     },
     "execution_count": 115,
     "metadata": {},
     "output_type": "execute_result"
    }
   ],
   "source": [
    "time_table.head(1).T"
   ]
  },
  {
   "cell_type": "code",
   "execution_count": 116,
   "metadata": {},
   "outputs": [
    {
     "name": "stdout",
     "output_type": "stream",
     "text": [
      "    birthYear gender  personId\n",
      "4        1974      M         0\n",
      "42       1970      F         1\n",
      "57       1980      F         2\n",
      "65       1984      M         3\n",
      "79       1966      F         4 (92, 3)\n",
      "Successfully inserted data into person table\n"
     ]
    }
   ],
   "source": [
    "# creating the person table\n",
    "person_table = imm_df.loc[:, ['birthYear','gender']].dropna().drop_duplicates()\n",
    "person_table['personId'] = np.arange(person_table.shape[0])\n",
    "show(person_table)\n",
    "cols = person_table.columns.tolist()\n",
    "\n",
    "# insert the data in person table\n",
    "insert_into_person_table = '''\n",
    "INSERT INTO {}.{}\n",
    "({})                   \n",
    "VALUES (%s, %s, %s)\n",
    "'''.format(schema, 'dim_person', ','.join(cols))\n",
    "\n",
    "for indx, row in person_table.iterrows():\n",
    "    cur.execute(insert_into_person_table, row)\n",
    "\n",
    "print(\"Successfully inserted data into person table\")"
   ]
  },
  {
   "cell_type": "code",
   "execution_count": 117,
   "metadata": {},
   "outputs": [
    {
     "data": {
      "text/html": [
       "<div>\n",
       "<style scoped>\n",
       "    .dataframe tbody tr th:only-of-type {\n",
       "        vertical-align: middle;\n",
       "    }\n",
       "\n",
       "    .dataframe tbody tr th {\n",
       "        vertical-align: top;\n",
       "    }\n",
       "\n",
       "    .dataframe thead th {\n",
       "        text-align: right;\n",
       "    }\n",
       "</style>\n",
       "<table border=\"1\" class=\"dataframe\">\n",
       "  <thead>\n",
       "    <tr style=\"text-align: right;\">\n",
       "      <th></th>\n",
       "      <th>4</th>\n",
       "    </tr>\n",
       "  </thead>\n",
       "  <tbody>\n",
       "    <tr>\n",
       "      <th>birthYear</th>\n",
       "      <td>1974</td>\n",
       "    </tr>\n",
       "    <tr>\n",
       "      <th>gender</th>\n",
       "      <td>M</td>\n",
       "    </tr>\n",
       "    <tr>\n",
       "      <th>personId</th>\n",
       "      <td>0</td>\n",
       "    </tr>\n",
       "  </tbody>\n",
       "</table>\n",
       "</div>"
      ],
      "text/plain": [
       "              4\n",
       "birthYear  1974\n",
       "gender        M\n",
       "personId      0"
      ]
     },
     "execution_count": 117,
     "metadata": {},
     "output_type": "execute_result"
    }
   ],
   "source": [
    "person_table.head(1).T"
   ]
  },
  {
   "cell_type": "code",
   "execution_count": 118,
   "metadata": {},
   "outputs": [
    {
     "name": "stdout",
     "output_type": "stream",
     "text": [
      "   countryId countryName\n",
      "4        117       ITALY (1, 2)\n",
      "Successfully inserted data into country table\n"
     ]
    }
   ],
   "source": [
    "# creating the country table\n",
    "country_detail = pd.read_csv(country_detail_path,  header = None, index_col = 0).squeeze(\"columns\")\n",
    "country_table = imm_df.loc[:, ['bornCountry']].drop_duplicates().rename(columns={'bornCountry': 'countryId'})\n",
    "country_table['countryName'] = country_table['countryId'].map(lambda x: country_detail[x])\n",
    "show(country_table)\n",
    "\n",
    "# insert the data in country table\n",
    "cols=country_table.columns\n",
    "insert_into_country_table = '''\n",
    "INSERT INTO {}.{}\n",
    "({})                   \n",
    "VALUES (%s, %s)\n",
    "'''.format(schema, 'dim_country', ','.join(cols))\n",
    "\n",
    "for indx, row in country_table.iterrows():\n",
    "    cur.execute(insert_into_country_table, row)\n",
    "\n",
    "print(\"Successfully inserted data into country table\")"
   ]
  },
  {
   "cell_type": "code",
   "execution_count": 119,
   "metadata": {},
   "outputs": [
    {
     "data": {
      "text/html": [
       "<div>\n",
       "<style scoped>\n",
       "    .dataframe tbody tr th:only-of-type {\n",
       "        vertical-align: middle;\n",
       "    }\n",
       "\n",
       "    .dataframe tbody tr th {\n",
       "        vertical-align: top;\n",
       "    }\n",
       "\n",
       "    .dataframe thead th {\n",
       "        text-align: right;\n",
       "    }\n",
       "</style>\n",
       "<table border=\"1\" class=\"dataframe\">\n",
       "  <thead>\n",
       "    <tr style=\"text-align: right;\">\n",
       "      <th></th>\n",
       "      <th>4</th>\n",
       "    </tr>\n",
       "  </thead>\n",
       "  <tbody>\n",
       "    <tr>\n",
       "      <th>countryId</th>\n",
       "      <td>117</td>\n",
       "    </tr>\n",
       "    <tr>\n",
       "      <th>countryName</th>\n",
       "      <td>ITALY</td>\n",
       "    </tr>\n",
       "  </tbody>\n",
       "</table>\n",
       "</div>"
      ],
      "text/plain": [
       "                 4\n",
       "countryId      117\n",
       "countryName  ITALY"
      ]
     },
     "execution_count": 119,
     "metadata": {},
     "output_type": "execute_result"
    }
   ],
   "source": [
    "country_table.head(1).T\n"
   ]
  },
  {
   "cell_type": "code",
   "execution_count": 120,
   "metadata": {},
   "outputs": [
    {
     "name": "stdout",
     "output_type": "stream",
     "text": [
      "  arrival_port  num_arrivals  arrivalPortId state_code\n",
      "0          HOU             1              0         TX\n",
      "1          LOS            55              1         CA\n",
      "2          LVG            10              2         NV\n",
      "3          MIA            72              3         FL\n",
      "4          NYC            23              4         NY (8, 4)\n",
      "Successfully inserted data into arrival table\n"
     ]
    }
   ],
   "source": [
    "# creating the arrival table\n",
    "arrival_data_map = pd.read_csv(arrival_port_map, header = None, index_col = 0).squeeze(\"columns\")\n",
    "arrival_port_table = imm_df.groupby('arrivalPort', as_index=False)['arrivalAddress'].count().dropna().drop_duplicates()\n",
    "\n",
    "arrival_port_table['arrivalPortId'] = np.arange(arrival_port_table.shape[0])\n",
    "arrival_port_table['stateCode'] = arrival_port_table['arrivalPort'].map(lambda x: arrival_data_map[x])\n",
    "\n",
    "arrival_port_table = arrival_port_table.rename(columns={\"arrivalAddress\": \"num_arrivals\", \n",
    "                                                        \"arrivalPort\": \"arrival_port\",\n",
    "                                                       \"stateCode\": \"state_code\"})\n",
    "\n",
    "show(arrival_port_table)\n",
    "\n",
    "# insert the data in arrival table\n",
    "cols = arrival_port_table.columns\n",
    "insert_into_arrival_table = '''\n",
    "INSERT INTO {}.{}\n",
    "({})                   \n",
    "VALUES (%s, %s, %s, %s)\n",
    "'''.format(schema, 'dim_arrival', ','.join(cols))\n",
    "\n",
    "for indx, row in arrival_port_table.iterrows():\n",
    "    cur.execute(insert_into_arrival_table, row)\n",
    "\n",
    "print(\"Successfully inserted data into arrival table\")\n",
    "\n"
   ]
  },
  {
   "cell_type": "code",
   "execution_count": 121,
   "metadata": {},
   "outputs": [
    {
     "data": {
      "text/html": [
       "<div>\n",
       "<style scoped>\n",
       "    .dataframe tbody tr th:only-of-type {\n",
       "        vertical-align: middle;\n",
       "    }\n",
       "\n",
       "    .dataframe tbody tr th {\n",
       "        vertical-align: top;\n",
       "    }\n",
       "\n",
       "    .dataframe thead th {\n",
       "        text-align: right;\n",
       "    }\n",
       "</style>\n",
       "<table border=\"1\" class=\"dataframe\">\n",
       "  <thead>\n",
       "    <tr style=\"text-align: right;\">\n",
       "      <th></th>\n",
       "      <th>0</th>\n",
       "    </tr>\n",
       "  </thead>\n",
       "  <tbody>\n",
       "    <tr>\n",
       "      <th>arrival_port</th>\n",
       "      <td>HOU</td>\n",
       "    </tr>\n",
       "    <tr>\n",
       "      <th>num_arrivals</th>\n",
       "      <td>1</td>\n",
       "    </tr>\n",
       "    <tr>\n",
       "      <th>arrivalPortId</th>\n",
       "      <td>0</td>\n",
       "    </tr>\n",
       "    <tr>\n",
       "      <th>state_code</th>\n",
       "      <td>TX</td>\n",
       "    </tr>\n",
       "  </tbody>\n",
       "</table>\n",
       "</div>"
      ],
      "text/plain": [
       "                 0\n",
       "arrival_port   HOU\n",
       "num_arrivals     1\n",
       "arrivalPortId    0\n",
       "state_code      TX"
      ]
     },
     "execution_count": 121,
     "metadata": {},
     "output_type": "execute_result"
    }
   ],
   "source": [
    "arrival_port_table.head(1).T"
   ]
  },
  {
   "cell_type": "code",
   "execution_count": 122,
   "metadata": {},
   "outputs": [
    {
     "name": "stdout",
     "output_type": "stream",
     "text": [
      "   arrivalFlag departureFlag updateFlag matchFlag  statusFlagId\n",
      "4            O             O       None         M             0\n",
      "79           T             I       None         M             1\n",
      "80           T             K       None         M             2\n",
      "82           T             O       None         M             3\n",
      "84           G             O       None         M             4 (9, 5)\n",
      "Successfully inserted data into status table\n"
     ]
    }
   ],
   "source": [
    "# creating the status table\n",
    "status_table = imm_df.loc[:, ['arrivalFlag','departureFlag', 'updateFlag','matchFlag']]\n",
    "status_table = status_table.drop_duplicates()\n",
    "status_table['statusFlagId'] = np.arange(status_table.shape[0])\n",
    "show(status_table)\n",
    "\n",
    "# insert data into status table\n",
    "\n",
    "cols = status_table.columns\n",
    "insert_into_arrival_table = '''\n",
    "INSERT INTO {}.{}\n",
    "({})                   \n",
    "VALUES (%s, %s, %s, %s, %s)\n",
    "'''.format(schema, 'dim_status', ','.join(cols))\n",
    "\n",
    "for indx, row in status_table.iterrows():\n",
    "    cur.execute(insert_into_arrival_table, row)\n",
    "\n",
    "print(\"Successfully inserted data into status table\")\n"
   ]
  },
  {
   "cell_type": "code",
   "execution_count": 123,
   "metadata": {},
   "outputs": [
    {
     "data": {
      "text/html": [
       "<div>\n",
       "<style scoped>\n",
       "    .dataframe tbody tr th:only-of-type {\n",
       "        vertical-align: middle;\n",
       "    }\n",
       "\n",
       "    .dataframe tbody tr th {\n",
       "        vertical-align: top;\n",
       "    }\n",
       "\n",
       "    .dataframe thead th {\n",
       "        text-align: right;\n",
       "    }\n",
       "</style>\n",
       "<table border=\"1\" class=\"dataframe\">\n",
       "  <thead>\n",
       "    <tr style=\"text-align: right;\">\n",
       "      <th></th>\n",
       "      <th>4</th>\n",
       "    </tr>\n",
       "  </thead>\n",
       "  <tbody>\n",
       "    <tr>\n",
       "      <th>arrivalFlag</th>\n",
       "      <td>O</td>\n",
       "    </tr>\n",
       "    <tr>\n",
       "      <th>departureFlag</th>\n",
       "      <td>O</td>\n",
       "    </tr>\n",
       "    <tr>\n",
       "      <th>updateFlag</th>\n",
       "      <td>None</td>\n",
       "    </tr>\n",
       "    <tr>\n",
       "      <th>matchFlag</th>\n",
       "      <td>M</td>\n",
       "    </tr>\n",
       "    <tr>\n",
       "      <th>statusFlagId</th>\n",
       "      <td>0</td>\n",
       "    </tr>\n",
       "  </tbody>\n",
       "</table>\n",
       "</div>"
      ],
      "text/plain": [
       "                  4\n",
       "arrivalFlag       O\n",
       "departureFlag     O\n",
       "updateFlag     None\n",
       "matchFlag         M\n",
       "statusFlagId      0"
      ]
     },
     "execution_count": 123,
     "metadata": {},
     "output_type": "execute_result"
    }
   ],
   "source": [
    "status_table.head(1).T"
   ]
  },
  {
   "cell_type": "code",
   "execution_count": 124,
   "metadata": {},
   "outputs": [
    {
     "name": "stdout",
     "output_type": "stream",
     "text": [
      "Added time (185, 17)\n"
     ]
    },
    {
     "data": {
      "text/html": [
       "<div>\n",
       "<style scoped>\n",
       "    .dataframe tbody tr th:only-of-type {\n",
       "        vertical-align: middle;\n",
       "    }\n",
       "\n",
       "    .dataframe tbody tr th {\n",
       "        vertical-align: top;\n",
       "    }\n",
       "\n",
       "    .dataframe thead th {\n",
       "        text-align: right;\n",
       "    }\n",
       "</style>\n",
       "<table border=\"1\" class=\"dataframe\">\n",
       "  <thead>\n",
       "    <tr style=\"text-align: right;\">\n",
       "      <th></th>\n",
       "      <th>gender</th>\n",
       "      <th>birthYear</th>\n",
       "    </tr>\n",
       "  </thead>\n",
       "  <tbody>\n",
       "    <tr>\n",
       "      <th>4</th>\n",
       "      <td>M</td>\n",
       "      <td>1974</td>\n",
       "    </tr>\n",
       "    <tr>\n",
       "      <th>42</th>\n",
       "      <td>F</td>\n",
       "      <td>1970</td>\n",
       "    </tr>\n",
       "    <tr>\n",
       "      <th>57</th>\n",
       "      <td>F</td>\n",
       "      <td>1980</td>\n",
       "    </tr>\n",
       "    <tr>\n",
       "      <th>65</th>\n",
       "      <td>M</td>\n",
       "      <td>1984</td>\n",
       "    </tr>\n",
       "    <tr>\n",
       "      <th>79</th>\n",
       "      <td>F</td>\n",
       "      <td>1966</td>\n",
       "    </tr>\n",
       "    <tr>\n",
       "      <th>...</th>\n",
       "      <td>...</td>\n",
       "      <td>...</td>\n",
       "    </tr>\n",
       "    <tr>\n",
       "      <th>295</th>\n",
       "      <td>M</td>\n",
       "      <td>1985</td>\n",
       "    </tr>\n",
       "    <tr>\n",
       "      <th>296</th>\n",
       "      <td>F</td>\n",
       "      <td>1986</td>\n",
       "    </tr>\n",
       "    <tr>\n",
       "      <th>297</th>\n",
       "      <td>F</td>\n",
       "      <td>1988</td>\n",
       "    </tr>\n",
       "    <tr>\n",
       "      <th>298</th>\n",
       "      <td>F</td>\n",
       "      <td>1991</td>\n",
       "    </tr>\n",
       "    <tr>\n",
       "      <th>299</th>\n",
       "      <td>M</td>\n",
       "      <td>1994</td>\n",
       "    </tr>\n",
       "  </tbody>\n",
       "</table>\n",
       "<p>185 rows × 2 columns</p>\n",
       "</div>"
      ],
      "text/plain": [
       "    gender  birthYear\n",
       "4        M       1974\n",
       "42       F       1970\n",
       "57       F       1980\n",
       "65       M       1984\n",
       "79       F       1966\n",
       "..     ...        ...\n",
       "295      M       1985\n",
       "296      F       1986\n",
       "297      F       1988\n",
       "298      F       1991\n",
       "299      M       1994\n",
       "\n",
       "[185 rows x 2 columns]"
      ]
     },
     "execution_count": 124,
     "metadata": {},
     "output_type": "execute_result"
    }
   ],
   "source": [
    "# creating the fact table\n",
    "cols = ['cicid', 'arrivalDate','departureDate','mode','bornCountry', 'airline','birthYear',\n",
    "        'flightNumber','visaId','visaType','gender','arrivalPort','arrivalFlag','departureFlag', \n",
    "        'updateFlag', 'matchFlag', 'flight_no']\n",
    "\n",
    "# adding time\n",
    "small_table = imm_df.loc[:, cols].drop_duplicates(subset=['cicid'])\n",
    "print('Added time', small_table.shape)\n",
    "small_table[['gender', 'birthYear']]"
   ]
  },
  {
   "cell_type": "code",
   "execution_count": 125,
   "metadata": {},
   "outputs": [
    {
     "name": "stdout",
     "output_type": "stream",
     "text": [
      "Added person (185, 18)\n"
     ]
    }
   ],
   "source": [
    "\n",
    "# adding person id \n",
    "cols = ['gender', 'birthYear']\n",
    "small_table = small_table.merge(person_table , left_on=cols, right_on=cols)\n",
    "print('Added person', small_table.shape)\n"
   ]
  },
  {
   "cell_type": "code",
   "execution_count": 126,
   "metadata": {},
   "outputs": [
    {
     "name": "stdout",
     "output_type": "stream",
     "text": [
      "Added status (185, 19)\n"
     ]
    }
   ],
   "source": [
    "\n",
    "# adding status flag id\n",
    "cols = ['arrivalFlag','departureFlag','updateFlag','matchFlag']\n",
    "small_table = small_table.merge(status_table, left_on=cols, right_on=cols)\n",
    "print('Added status', small_table.shape)\n"
   ]
  },
  {
   "cell_type": "code",
   "execution_count": 127,
   "metadata": {},
   "outputs": [
    {
     "name": "stdout",
     "output_type": "stream",
     "text": [
      "Added arrival (185, 23)\n"
     ]
    }
   ],
   "source": [
    "\n",
    "# adding arrival port id\n",
    "small_table = small_table.merge(arrival_port_table, left_on='arrivalPort',right_on='arrival_port')\n",
    "print('Added arrival', small_table.shape)\n",
    "\n"
   ]
  },
  {
   "cell_type": "code",
   "execution_count": 128,
   "metadata": {},
   "outputs": [
    {
     "name": "stdout",
     "output_type": "stream",
     "text": [
      "Added airport (187, 25)\n"
     ]
    }
   ],
   "source": [
    "# adding ident (airport)\n",
    "im2_ = im2.loc[:, ['flight_no', 'ident', 'airportName']]\n",
    "small_table = small_table.merge(im2_, left_on='flight_no', right_on='flight_no')\n",
    "print('Added airport', small_table.shape)\n"
   ]
  },
  {
   "cell_type": "code",
   "execution_count": 129,
   "metadata": {},
   "outputs": [
    {
     "name": "stdout",
     "output_type": "stream",
     "text": [
      "Added country (187, 27)\n"
     ]
    }
   ],
   "source": [
    "\n",
    "# add country\n",
    "small_table = small_table.merge(country_table, left_on='bornCountry', right_on='countryId')\n",
    "print('Added country', small_table.shape)\n",
    "\n"
   ]
  },
  {
   "cell_type": "code",
   "execution_count": 130,
   "metadata": {},
   "outputs": [
    {
     "name": "stdout",
     "output_type": "stream",
     "text": [
      "Added demographics (187, 28)\n",
      "Successfully joined dimension tables into fact table\n"
     ]
    }
   ],
   "source": [
    "# add demographics\n",
    "small_table = small_table.merge(dem.loc[:, ['state_code', 'state']], left_on='state_code', right_on='state_code')\n",
    "print('Added demographics', small_table.shape)\n",
    "\n",
    "print(\"Successfully joined dimension tables into fact table\")"
   ]
  },
  {
   "cell_type": "code",
   "execution_count": 131,
   "metadata": {},
   "outputs": [
    {
     "data": {
      "text/html": [
       "<div>\n",
       "<style scoped>\n",
       "    .dataframe tbody tr th:only-of-type {\n",
       "        vertical-align: middle;\n",
       "    }\n",
       "\n",
       "    .dataframe tbody tr th {\n",
       "        vertical-align: top;\n",
       "    }\n",
       "\n",
       "    .dataframe thead th {\n",
       "        text-align: right;\n",
       "    }\n",
       "</style>\n",
       "<table border=\"1\" class=\"dataframe\">\n",
       "  <thead>\n",
       "    <tr style=\"text-align: right;\">\n",
       "      <th></th>\n",
       "      <th>0</th>\n",
       "    </tr>\n",
       "  </thead>\n",
       "  <tbody>\n",
       "    <tr>\n",
       "      <th>cicid</th>\n",
       "      <td>1360829</td>\n",
       "    </tr>\n",
       "    <tr>\n",
       "      <th>personId</th>\n",
       "      <td>0</td>\n",
       "    </tr>\n",
       "    <tr>\n",
       "      <th>statusFlagId</th>\n",
       "      <td>0</td>\n",
       "    </tr>\n",
       "    <tr>\n",
       "      <th>ident</th>\n",
       "      <td>KJFK</td>\n",
       "    </tr>\n",
       "    <tr>\n",
       "      <th>visaId</th>\n",
       "      <td>2</td>\n",
       "    </tr>\n",
       "    <tr>\n",
       "      <th>arrivalDate</th>\n",
       "      <td>2016-04-08 00:00:00</td>\n",
       "    </tr>\n",
       "    <tr>\n",
       "      <th>arrivalPortId</th>\n",
       "      <td>4</td>\n",
       "    </tr>\n",
       "    <tr>\n",
       "      <th>countryId</th>\n",
       "      <td>117</td>\n",
       "    </tr>\n",
       "    <tr>\n",
       "      <th>arrivalPort</th>\n",
       "      <td>NYC</td>\n",
       "    </tr>\n",
       "    <tr>\n",
       "      <th>state_code</th>\n",
       "      <td>NY</td>\n",
       "    </tr>\n",
       "    <tr>\n",
       "      <th>departureDate</th>\n",
       "      <td>2016-04-12 00:00:00</td>\n",
       "    </tr>\n",
       "    <tr>\n",
       "      <th>mode</th>\n",
       "      <td>1</td>\n",
       "    </tr>\n",
       "    <tr>\n",
       "      <th>visaType</th>\n",
       "      <td>WT</td>\n",
       "    </tr>\n",
       "    <tr>\n",
       "      <th>gender</th>\n",
       "      <td>M</td>\n",
       "    </tr>\n",
       "    <tr>\n",
       "      <th>state</th>\n",
       "      <td>New York</td>\n",
       "    </tr>\n",
       "    <tr>\n",
       "      <th>countryName</th>\n",
       "      <td>ITALY</td>\n",
       "    </tr>\n",
       "    <tr>\n",
       "      <th>airportName</th>\n",
       "      <td>John F Kennedy International Airport</td>\n",
       "    </tr>\n",
       "  </tbody>\n",
       "</table>\n",
       "</div>"
      ],
      "text/plain": [
       "                                                  0\n",
       "cicid                                       1360829\n",
       "personId                                          0\n",
       "statusFlagId                                      0\n",
       "ident                                          KJFK\n",
       "visaId                                            2\n",
       "arrivalDate                     2016-04-08 00:00:00\n",
       "arrivalPortId                                     4\n",
       "countryId                                       117\n",
       "arrivalPort                                     NYC\n",
       "state_code                                       NY\n",
       "departureDate                   2016-04-12 00:00:00\n",
       "mode                                              1\n",
       "visaType                                         WT\n",
       "gender                                            M\n",
       "state                                      New York\n",
       "countryName                                   ITALY\n",
       "airportName    John F Kennedy International Airport"
      ]
     },
     "execution_count": 131,
     "metadata": {},
     "output_type": "execute_result"
    }
   ],
   "source": [
    "# Insert data into fact table\n",
    "col_order = ['cicid', 'personId', 'statusFlagId', 'ident', 'visaId', 'arrivalDate', 'arrivalPortId', 'countryId','arrivalPort',\n",
    "             'state_code','departureDate', 'mode', 'visaType', 'gender', 'state','countryName', 'airportName']\n",
    "small_table = small_table.loc[:, col_order].drop_duplicates(subset=['cicid'])\n",
    "small_table.head(1).T\n"
   ]
  },
  {
   "cell_type": "code",
   "execution_count": 132,
   "metadata": {},
   "outputs": [
    {
     "name": "stdout",
     "output_type": "stream",
     "text": [
      "Successfully inserted data in fact table\n"
     ]
    }
   ],
   "source": [
    "insert_into_fact_table = '''\n",
    "INSERT INTO {}.{}\n",
    "({})                   \n",
    "VALUES (%s, %s, %s, %s, %s, %s, %s, %s, %s, %s, %s, %s, %s, %s, %s, %s, %s)\n",
    "'''.format(schema, 'fact_table', ','.join(col_order))\n",
    "\n",
    "for indx, row in small_table.iterrows():\n",
    "    cur.execute(insert_into_fact_table, row)\n",
    "print(\"Successfully inserted data in fact table\")"
   ]
  },
  {
   "cell_type": "code",
   "execution_count": 133,
   "metadata": {},
   "outputs": [
    {
     "name": "stdout",
     "output_type": "stream",
     "text": [
      "     cicid  personId  statusFlagId ident  visaId arrivalDate  arrivalPortId  \\\n",
      "0  1360829         0             0  KJFK       2  2016-04-08              4   \n",
      "1  1360867         1             0  KJFK       2  2016-04-08              4   \n",
      "2  1360882         2             0  KJFK       2  2016-04-08              4   \n",
      "3  1360890         3             0  KJFK       2  2016-04-08              4   \n",
      "4  1360921         0             4  KJFK       2  2016-04-08              4   \n",
      "\n",
      "   countryId arrivalPort state_code departureDate  mode visaType gender  \\\n",
      "0        117         NYC         NY    2016-04-12     1       WT      M   \n",
      "1        117         NYC         NY    2016-04-16     1       WT      F   \n",
      "2        117         NYC         NY    2016-04-19     1       WT      F   \n",
      "3        117         NYC         NY    2016-07-02     1       WT      M   \n",
      "4        117         NYC         NY    2016-04-16     1       WT      M   \n",
      "\n",
      "      state countryName                           airportName  \n",
      "0  New York       ITALY  John F Kennedy International Airport  \n",
      "1  New York       ITALY  John F Kennedy International Airport  \n",
      "2  New York       ITALY  John F Kennedy International Airport  \n",
      "3  New York       ITALY  John F Kennedy International Airport  \n",
      "4  New York       ITALY  John F Kennedy International Airport   (185, 17)\n"
     ]
    }
   ],
   "source": [
    "show(small_table)"
   ]
  },
  {
   "cell_type": "code",
   "execution_count": 140,
   "metadata": {},
   "outputs": [
    {
     "name": "stdout",
     "output_type": "stream",
     "text": [
      "\n",
      "    Quality check passed, \n",
      "    Number of rows in immigration dataframe = 185\n",
      "    Number of rows in fact table dataframe = 185\n"
     ]
    }
   ],
   "source": [
    "# Quality check \n",
    "# Number of rows in the initial immigration dataframe and the total rows combined is dame\n",
    "if small_table.shape[0] == imm_df.shape[0]:\n",
    "    print('''\n",
    "    Quality check passed, \n",
    "    Number of rows in immigration dataframe = {}\n",
    "    Number of rows in fact table dataframe = {}'''.format(small_table.shape[0], imm_df.shape[0]))"
   ]
  },
  {
   "cell_type": "code",
   "execution_count": null,
   "metadata": {},
   "outputs": [],
   "source": []
  }
 ],
 "metadata": {
  "kernelspec": {
   "display_name": "udacity",
   "language": "python",
   "name": "udacity"
  },
  "language_info": {
   "codemirror_mode": {
    "name": "ipython",
    "version": 3
   },
   "file_extension": ".py",
   "mimetype": "text/x-python",
   "name": "python",
   "nbconvert_exporter": "python",
   "pygments_lexer": "ipython3",
   "version": "3.9.12"
  }
 },
 "nbformat": 4,
 "nbformat_minor": 4
}
